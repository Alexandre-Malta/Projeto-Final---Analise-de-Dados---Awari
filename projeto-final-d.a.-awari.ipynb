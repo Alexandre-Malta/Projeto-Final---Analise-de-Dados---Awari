{
  "nbformat": 4,
  "nbformat_minor": 0,
  "metadata": {
    "colab": {
      "provenance": []
    },
    "kernelspec": {
      "name": "python3",
      "display_name": "Python 3"
    },
    "language_info": {
      "name": "python"
    }
  },
  "cells": [
    {
      "cell_type": "markdown",
      "source": [
        "## **Renumeração dos profissionais de Data Science no Brasil**"
      ],
      "metadata": {
        "id": "15P-CRUPoGgw"
      }
    },
    {
      "cell_type": "markdown",
      "source": [
        "O objetivo aqui é entender quais características dos profissionais de data science podem ter alguma relação com a remuneração. Vamos realizar análises referentes a renumeração e quais os fatores determinantes, como gênero, grau de escolaridade, tamanho da empresa e experiência profissional. "
      ],
      "metadata": {
        "id": "bcK6OEVAIhpU"
      }
    },
    {
      "cell_type": "code",
      "source": [
        "import pandas as pd"
      ],
      "metadata": {
        "id": "vSp2ONgHoRnk"
      },
      "execution_count": null,
      "outputs": []
    },
    {
      "cell_type": "code",
      "source": [
        "df = pd.read_csv('datahackers-survey-2019-anonymous-responses.csv')"
      ],
      "metadata": {
        "id": "ra9pRGyUo-Qk"
      },
      "execution_count": null,
      "outputs": []
    },
    {
      "cell_type": "markdown",
      "source": [
        "Inicialmente, vamos visualizar os 5 primeiros registros do dataframe."
      ],
      "metadata": {
        "id": "d7bpg2xtIrVC"
      }
    },
    {
      "cell_type": "code",
      "source": [
        "df.head()"
      ],
      "metadata": {
        "colab": {
          "base_uri": "https://localhost:8080/",
          "height": 421
        },
        "id": "uyAH4srGpb1y",
        "outputId": "d4eb4617-d368-44a8-a428-d78ade4f1bdf"
      },
      "execution_count": null,
      "outputs": [
        {
          "output_type": "execute_result",
          "data": {
            "text/plain": [
              "                       ('P0', 'id')  ('P1', 'age') ('P2', 'gender')  \\\n",
              "0  v9otv8j9wdvjrv9otvwnn9owhzq54ktv           37.0        Masculino   \n",
              "1  875ul998t0hqcv0871uptwf3oswcfv35           24.0         Feminino   \n",
              "2  puscuk079vw1pusbb900pzw2xvpxtgdk           26.0        Masculino   \n",
              "3  rmel8ewqpbffp2mnfbzermel8eqincov           21.0        Masculino   \n",
              "4  pj9mgud4d6mdct1l7vq0pj9mgu78h6ju           27.0        Masculino   \n",
              "\n",
              "   ('P3', 'living_in_brasil') ('P5', 'living_state')  \\\n",
              "0                           1      Minas Gerais (MG)   \n",
              "1                           1         São Paulo (SP)   \n",
              "2                           1         São Paulo (SP)   \n",
              "3                           1         São Paulo (SP)   \n",
              "4                           1                    NaN   \n",
              "\n",
              "   ('P6', 'born_or_graduated') ('P8', 'degreee_level')  \\\n",
              "0                          1.0  Estudante de Graduação   \n",
              "1                          1.0  Estudante de Graduação   \n",
              "2                          1.0   Graduação/Bacharelado   \n",
              "3                          0.0  Estudante de Graduação   \n",
              "4                          1.0   Graduação/Bacharelado   \n",
              "\n",
              "  ('P10', 'job_situation') ('P12', 'workers_number')  ('P13', 'manager')  ...  \\\n",
              "0          Empregado (CTL)                  de 1 a 5                 0.0  ...   \n",
              "1          Empregado (CTL)             Acima de 3000                 0.0  ...   \n",
              "2          Empregado (CTL)             Acima de 3000                 0.0  ...   \n",
              "3               Estagiário                de 11 a 50                 0.0  ...   \n",
              "4               Freelancer                 de 6 a 10                 1.0  ...   \n",
              "\n",
              "  ('P34', 'other') ('P35', 'data_science_plataforms_preference')  \\\n",
              "0                0                       Nunca fiz cursos online   \n",
              "1                1                                           NaN   \n",
              "2                0                                         Udemy   \n",
              "3                0                                         Alura   \n",
              "4                0                                         Udemy   \n",
              "\n",
              "       ('P35', 'other')  ('P36', 'draw_participation')  \\\n",
              "0                   NaN                            1.0   \n",
              "1  Data Science Academy                            0.0   \n",
              "2                   NaN                            1.0   \n",
              "3                   NaN                            1.0   \n",
              "4                   NaN                            1.0   \n",
              "\n",
              "   ('D1', 'living_macroregion')  ('D2', 'origin_macroregion')  \\\n",
              "0                Região Sudeste                           NaN   \n",
              "1                Região Sudeste                           NaN   \n",
              "2                Região Sudeste                           NaN   \n",
              "3                Região Sudeste                Região Sudeste   \n",
              "4                           NaN                           NaN   \n",
              "\n",
              "                    ('D3', 'anonymized_degree_area')  \\\n",
              "0  Computação / Engenharia de Software / Sistemas...   \n",
              "1  Computação / Engenharia de Software / Sistemas...   \n",
              "2                                 Outras Engenharias   \n",
              "3  Computação / Engenharia de Software / Sistemas...   \n",
              "4  Computação / Engenharia de Software / Sistemas...   \n",
              "\n",
              "   ('D4', 'anonymized_market_sector')  ('D5', 'anonymized_manager_level')  \\\n",
              "0                              Outras                                 NaN   \n",
              "1                            Educação                                 NaN   \n",
              "2              Indústria (Manufatura)                                 NaN   \n",
              "3      Tecnologia/Fábrica de Software                                 NaN   \n",
              "4                  Internet/Ecommerce             C-level (CDO, CIO, CTO)   \n",
              "\n",
              "              ('D6', 'anonymized_role')  \n",
              "0                                Outras  \n",
              "1        Data Analyst/Analista de Dados  \n",
              "2                                Outras  \n",
              "3  Business Intelligence/Analista de BI  \n",
              "4                                   NaN  \n",
              "\n",
              "[5 rows x 170 columns]"
            ],
            "text/html": [
              "\n",
              "  <div id=\"df-c0dd54bb-e8c4-4a43-92dc-6ead86894fed\">\n",
              "    <div class=\"colab-df-container\">\n",
              "      <div>\n",
              "<style scoped>\n",
              "    .dataframe tbody tr th:only-of-type {\n",
              "        vertical-align: middle;\n",
              "    }\n",
              "\n",
              "    .dataframe tbody tr th {\n",
              "        vertical-align: top;\n",
              "    }\n",
              "\n",
              "    .dataframe thead th {\n",
              "        text-align: right;\n",
              "    }\n",
              "</style>\n",
              "<table border=\"1\" class=\"dataframe\">\n",
              "  <thead>\n",
              "    <tr style=\"text-align: right;\">\n",
              "      <th></th>\n",
              "      <th>('P0', 'id')</th>\n",
              "      <th>('P1', 'age')</th>\n",
              "      <th>('P2', 'gender')</th>\n",
              "      <th>('P3', 'living_in_brasil')</th>\n",
              "      <th>('P5', 'living_state')</th>\n",
              "      <th>('P6', 'born_or_graduated')</th>\n",
              "      <th>('P8', 'degreee_level')</th>\n",
              "      <th>('P10', 'job_situation')</th>\n",
              "      <th>('P12', 'workers_number')</th>\n",
              "      <th>('P13', 'manager')</th>\n",
              "      <th>...</th>\n",
              "      <th>('P34', 'other')</th>\n",
              "      <th>('P35', 'data_science_plataforms_preference')</th>\n",
              "      <th>('P35', 'other')</th>\n",
              "      <th>('P36', 'draw_participation')</th>\n",
              "      <th>('D1', 'living_macroregion')</th>\n",
              "      <th>('D2', 'origin_macroregion')</th>\n",
              "      <th>('D3', 'anonymized_degree_area')</th>\n",
              "      <th>('D4', 'anonymized_market_sector')</th>\n",
              "      <th>('D5', 'anonymized_manager_level')</th>\n",
              "      <th>('D6', 'anonymized_role')</th>\n",
              "    </tr>\n",
              "  </thead>\n",
              "  <tbody>\n",
              "    <tr>\n",
              "      <th>0</th>\n",
              "      <td>v9otv8j9wdvjrv9otvwnn9owhzq54ktv</td>\n",
              "      <td>37.0</td>\n",
              "      <td>Masculino</td>\n",
              "      <td>1</td>\n",
              "      <td>Minas Gerais (MG)</td>\n",
              "      <td>1.0</td>\n",
              "      <td>Estudante de Graduação</td>\n",
              "      <td>Empregado (CTL)</td>\n",
              "      <td>de 1 a 5</td>\n",
              "      <td>0.0</td>\n",
              "      <td>...</td>\n",
              "      <td>0</td>\n",
              "      <td>Nunca fiz cursos online</td>\n",
              "      <td>NaN</td>\n",
              "      <td>1.0</td>\n",
              "      <td>Região Sudeste</td>\n",
              "      <td>NaN</td>\n",
              "      <td>Computação / Engenharia de Software / Sistemas...</td>\n",
              "      <td>Outras</td>\n",
              "      <td>NaN</td>\n",
              "      <td>Outras</td>\n",
              "    </tr>\n",
              "    <tr>\n",
              "      <th>1</th>\n",
              "      <td>875ul998t0hqcv0871uptwf3oswcfv35</td>\n",
              "      <td>24.0</td>\n",
              "      <td>Feminino</td>\n",
              "      <td>1</td>\n",
              "      <td>São Paulo (SP)</td>\n",
              "      <td>1.0</td>\n",
              "      <td>Estudante de Graduação</td>\n",
              "      <td>Empregado (CTL)</td>\n",
              "      <td>Acima de 3000</td>\n",
              "      <td>0.0</td>\n",
              "      <td>...</td>\n",
              "      <td>1</td>\n",
              "      <td>NaN</td>\n",
              "      <td>Data Science Academy</td>\n",
              "      <td>0.0</td>\n",
              "      <td>Região Sudeste</td>\n",
              "      <td>NaN</td>\n",
              "      <td>Computação / Engenharia de Software / Sistemas...</td>\n",
              "      <td>Educação</td>\n",
              "      <td>NaN</td>\n",
              "      <td>Data Analyst/Analista de Dados</td>\n",
              "    </tr>\n",
              "    <tr>\n",
              "      <th>2</th>\n",
              "      <td>puscuk079vw1pusbb900pzw2xvpxtgdk</td>\n",
              "      <td>26.0</td>\n",
              "      <td>Masculino</td>\n",
              "      <td>1</td>\n",
              "      <td>São Paulo (SP)</td>\n",
              "      <td>1.0</td>\n",
              "      <td>Graduação/Bacharelado</td>\n",
              "      <td>Empregado (CTL)</td>\n",
              "      <td>Acima de 3000</td>\n",
              "      <td>0.0</td>\n",
              "      <td>...</td>\n",
              "      <td>0</td>\n",
              "      <td>Udemy</td>\n",
              "      <td>NaN</td>\n",
              "      <td>1.0</td>\n",
              "      <td>Região Sudeste</td>\n",
              "      <td>NaN</td>\n",
              "      <td>Outras Engenharias</td>\n",
              "      <td>Indústria (Manufatura)</td>\n",
              "      <td>NaN</td>\n",
              "      <td>Outras</td>\n",
              "    </tr>\n",
              "    <tr>\n",
              "      <th>3</th>\n",
              "      <td>rmel8ewqpbffp2mnfbzermel8eqincov</td>\n",
              "      <td>21.0</td>\n",
              "      <td>Masculino</td>\n",
              "      <td>1</td>\n",
              "      <td>São Paulo (SP)</td>\n",
              "      <td>0.0</td>\n",
              "      <td>Estudante de Graduação</td>\n",
              "      <td>Estagiário</td>\n",
              "      <td>de 11 a 50</td>\n",
              "      <td>0.0</td>\n",
              "      <td>...</td>\n",
              "      <td>0</td>\n",
              "      <td>Alura</td>\n",
              "      <td>NaN</td>\n",
              "      <td>1.0</td>\n",
              "      <td>Região Sudeste</td>\n",
              "      <td>Região Sudeste</td>\n",
              "      <td>Computação / Engenharia de Software / Sistemas...</td>\n",
              "      <td>Tecnologia/Fábrica de Software</td>\n",
              "      <td>NaN</td>\n",
              "      <td>Business Intelligence/Analista de BI</td>\n",
              "    </tr>\n",
              "    <tr>\n",
              "      <th>4</th>\n",
              "      <td>pj9mgud4d6mdct1l7vq0pj9mgu78h6ju</td>\n",
              "      <td>27.0</td>\n",
              "      <td>Masculino</td>\n",
              "      <td>1</td>\n",
              "      <td>NaN</td>\n",
              "      <td>1.0</td>\n",
              "      <td>Graduação/Bacharelado</td>\n",
              "      <td>Freelancer</td>\n",
              "      <td>de 6 a 10</td>\n",
              "      <td>1.0</td>\n",
              "      <td>...</td>\n",
              "      <td>0</td>\n",
              "      <td>Udemy</td>\n",
              "      <td>NaN</td>\n",
              "      <td>1.0</td>\n",
              "      <td>NaN</td>\n",
              "      <td>NaN</td>\n",
              "      <td>Computação / Engenharia de Software / Sistemas...</td>\n",
              "      <td>Internet/Ecommerce</td>\n",
              "      <td>C-level (CDO, CIO, CTO)</td>\n",
              "      <td>NaN</td>\n",
              "    </tr>\n",
              "  </tbody>\n",
              "</table>\n",
              "<p>5 rows × 170 columns</p>\n",
              "</div>\n",
              "      <button class=\"colab-df-convert\" onclick=\"convertToInteractive('df-c0dd54bb-e8c4-4a43-92dc-6ead86894fed')\"\n",
              "              title=\"Convert this dataframe to an interactive table.\"\n",
              "              style=\"display:none;\">\n",
              "        \n",
              "  <svg xmlns=\"http://www.w3.org/2000/svg\" height=\"24px\"viewBox=\"0 0 24 24\"\n",
              "       width=\"24px\">\n",
              "    <path d=\"M0 0h24v24H0V0z\" fill=\"none\"/>\n",
              "    <path d=\"M18.56 5.44l.94 2.06.94-2.06 2.06-.94-2.06-.94-.94-2.06-.94 2.06-2.06.94zm-11 1L8.5 8.5l.94-2.06 2.06-.94-2.06-.94L8.5 2.5l-.94 2.06-2.06.94zm10 10l.94 2.06.94-2.06 2.06-.94-2.06-.94-.94-2.06-.94 2.06-2.06.94z\"/><path d=\"M17.41 7.96l-1.37-1.37c-.4-.4-.92-.59-1.43-.59-.52 0-1.04.2-1.43.59L10.3 9.45l-7.72 7.72c-.78.78-.78 2.05 0 2.83L4 21.41c.39.39.9.59 1.41.59.51 0 1.02-.2 1.41-.59l7.78-7.78 2.81-2.81c.8-.78.8-2.07 0-2.86zM5.41 20L4 18.59l7.72-7.72 1.47 1.35L5.41 20z\"/>\n",
              "  </svg>\n",
              "      </button>\n",
              "      \n",
              "  <style>\n",
              "    .colab-df-container {\n",
              "      display:flex;\n",
              "      flex-wrap:wrap;\n",
              "      gap: 12px;\n",
              "    }\n",
              "\n",
              "    .colab-df-convert {\n",
              "      background-color: #E8F0FE;\n",
              "      border: none;\n",
              "      border-radius: 50%;\n",
              "      cursor: pointer;\n",
              "      display: none;\n",
              "      fill: #1967D2;\n",
              "      height: 32px;\n",
              "      padding: 0 0 0 0;\n",
              "      width: 32px;\n",
              "    }\n",
              "\n",
              "    .colab-df-convert:hover {\n",
              "      background-color: #E2EBFA;\n",
              "      box-shadow: 0px 1px 2px rgba(60, 64, 67, 0.3), 0px 1px 3px 1px rgba(60, 64, 67, 0.15);\n",
              "      fill: #174EA6;\n",
              "    }\n",
              "\n",
              "    [theme=dark] .colab-df-convert {\n",
              "      background-color: #3B4455;\n",
              "      fill: #D2E3FC;\n",
              "    }\n",
              "\n",
              "    [theme=dark] .colab-df-convert:hover {\n",
              "      background-color: #434B5C;\n",
              "      box-shadow: 0px 1px 3px 1px rgba(0, 0, 0, 0.15);\n",
              "      filter: drop-shadow(0px 1px 2px rgba(0, 0, 0, 0.3));\n",
              "      fill: #FFFFFF;\n",
              "    }\n",
              "  </style>\n",
              "\n",
              "      <script>\n",
              "        const buttonEl =\n",
              "          document.querySelector('#df-c0dd54bb-e8c4-4a43-92dc-6ead86894fed button.colab-df-convert');\n",
              "        buttonEl.style.display =\n",
              "          google.colab.kernel.accessAllowed ? 'block' : 'none';\n",
              "\n",
              "        async function convertToInteractive(key) {\n",
              "          const element = document.querySelector('#df-c0dd54bb-e8c4-4a43-92dc-6ead86894fed');\n",
              "          const dataTable =\n",
              "            await google.colab.kernel.invokeFunction('convertToInteractive',\n",
              "                                                     [key], {});\n",
              "          if (!dataTable) return;\n",
              "\n",
              "          const docLinkHtml = 'Like what you see? Visit the ' +\n",
              "            '<a target=\"_blank\" href=https://colab.research.google.com/notebooks/data_table.ipynb>data table notebook</a>'\n",
              "            + ' to learn more about interactive tables.';\n",
              "          element.innerHTML = '';\n",
              "          dataTable['output_type'] = 'display_data';\n",
              "          await google.colab.output.renderOutput(dataTable, element);\n",
              "          const docLink = document.createElement('div');\n",
              "          docLink.innerHTML = docLinkHtml;\n",
              "          element.appendChild(docLink);\n",
              "        }\n",
              "      </script>\n",
              "    </div>\n",
              "  </div>\n",
              "  "
            ]
          },
          "metadata": {},
          "execution_count": 68
        }
      ]
    },
    {
      "cell_type": "markdown",
      "source": [
        "Agora, veremos a dimensão do dataframe com o seguinte comando: "
      ],
      "metadata": {
        "id": "N8tkWXEiI6oJ"
      }
    },
    {
      "cell_type": "code",
      "source": [
        "df.shape"
      ],
      "metadata": {
        "colab": {
          "base_uri": "https://localhost:8080/"
        },
        "id": "DtJcZRtmp4V2",
        "outputId": "b28cab87-6a45-4e05-c48a-00c4cb6510a1"
      },
      "execution_count": null,
      "outputs": [
        {
          "output_type": "execute_result",
          "data": {
            "text/plain": [
              "(1765, 170)"
            ]
          },
          "metadata": {},
          "execution_count": 69
        }
      ]
    },
    {
      "cell_type": "markdown",
      "source": [
        "O presente comando serve, principalmente, para determinar os tipos de objeto presentes no dataframe. "
      ],
      "metadata": {
        "id": "BazfJc2LJGhv"
      }
    },
    {
      "cell_type": "code",
      "source": [
        "df.info()"
      ],
      "metadata": {
        "colab": {
          "base_uri": "https://localhost:8080/"
        },
        "id": "opmwsm1ctu-P",
        "outputId": "eb97b445-ba23-4c3f-fcf8-c71be0b0d86d"
      },
      "execution_count": null,
      "outputs": [
        {
          "output_type": "stream",
          "name": "stdout",
          "text": [
            "<class 'pandas.core.frame.DataFrame'>\n",
            "RangeIndex: 1765 entries, 0 to 1764\n",
            "Columns: 170 entries, ('P0', 'id') to ('D6', 'anonymized_role')\n",
            "dtypes: float64(5), int64(146), object(19)\n",
            "memory usage: 2.3+ MB\n"
          ]
        }
      ]
    },
    {
      "cell_type": "markdown",
      "source": [
        "Este comando serve para determinar a quantidade de dados nulos."
      ],
      "metadata": {
        "id": "fnmN50cYJX0b"
      }
    },
    {
      "cell_type": "code",
      "source": [
        "df.isnull().sum()"
      ],
      "metadata": {
        "colab": {
          "base_uri": "https://localhost:8080/"
        },
        "id": "rTFCiCELtweX",
        "outputId": "bb46020d-076c-49a2-f916-d7a140eb4aae"
      },
      "execution_count": null,
      "outputs": [
        {
          "output_type": "execute_result",
          "data": {
            "text/plain": [
              "('P0', 'id')                             0\n",
              "('P1', 'age')                           24\n",
              "('P2', 'gender')                         3\n",
              "('P3', 'living_in_brasil')               0\n",
              "('P5', 'living_state')                 337\n",
              "                                      ... \n",
              "('D2', 'origin_macroregion')          1440\n",
              "('D3', 'anonymized_degree_area')        35\n",
              "('D4', 'anonymized_market_sector')     243\n",
              "('D5', 'anonymized_manager_level')    1460\n",
              "('D6', 'anonymized_role')              514\n",
              "Length: 170, dtype: int64"
            ]
          },
          "metadata": {},
          "execution_count": 71
        }
      ]
    },
    {
      "cell_type": "markdown",
      "source": [
        "Para verificar quão significativos são esses dados nulos, temos que determinar a média dos valores nulos existentes."
      ],
      "metadata": {
        "id": "ufiHLFTDKUbv"
      }
    },
    {
      "cell_type": "code",
      "source": [
        "df.isnull().mean()"
      ],
      "metadata": {
        "colab": {
          "base_uri": "https://localhost:8080/"
        },
        "id": "2abtoHfSzMJs",
        "outputId": "ccb4355a-5813-41a8-e59f-3213c2ce3e53"
      },
      "execution_count": null,
      "outputs": [
        {
          "output_type": "execute_result",
          "data": {
            "text/plain": [
              "('P0', 'id')                          0.000000\n",
              "('P1', 'age')                         0.013598\n",
              "('P2', 'gender')                      0.001700\n",
              "('P3', 'living_in_brasil')            0.000000\n",
              "('P5', 'living_state')                0.190935\n",
              "                                        ...   \n",
              "('D2', 'origin_macroregion')          0.815864\n",
              "('D3', 'anonymized_degree_area')      0.019830\n",
              "('D4', 'anonymized_market_sector')    0.137677\n",
              "('D5', 'anonymized_manager_level')    0.827195\n",
              "('D6', 'anonymized_role')             0.291218\n",
              "Length: 170, dtype: float64"
            ]
          },
          "metadata": {},
          "execution_count": 72
        }
      ]
    },
    {
      "cell_type": "markdown",
      "source": [
        "Os valores nulos, presentes no dataframe, naturalmente, são diferentes de zero, isto é:"
      ],
      "metadata": {
        "id": "TOOCma7dmo1M"
      }
    },
    {
      "cell_type": "code",
      "source": [
        "df.isnull().mean() != 0"
      ],
      "metadata": {
        "colab": {
          "base_uri": "https://localhost:8080/"
        },
        "id": "SlU8nF4i0HqV",
        "outputId": "bc4953b2-2dfe-4093-e1d4-fdaa2789d4a4"
      },
      "execution_count": null,
      "outputs": [
        {
          "output_type": "execute_result",
          "data": {
            "text/plain": [
              "('P0', 'id')                          False\n",
              "('P1', 'age')                          True\n",
              "('P2', 'gender')                       True\n",
              "('P3', 'living_in_brasil')            False\n",
              "('P5', 'living_state')                 True\n",
              "                                      ...  \n",
              "('D2', 'origin_macroregion')           True\n",
              "('D3', 'anonymized_degree_area')       True\n",
              "('D4', 'anonymized_market_sector')     True\n",
              "('D5', 'anonymized_manager_level')     True\n",
              "('D6', 'anonymized_role')              True\n",
              "Length: 170, dtype: bool"
            ]
          },
          "metadata": {},
          "execution_count": 73
        }
      ]
    },
    {
      "cell_type": "markdown",
      "source": [
        "Filtrando essa condição, temos:"
      ],
      "metadata": {
        "id": "fIhzUGJeC9p1"
      }
    },
    {
      "cell_type": "code",
      "source": [
        "df.isnull().mean() [df.isnull().mean() !=0]"
      ],
      "metadata": {
        "colab": {
          "base_uri": "https://localhost:8080/"
        },
        "id": "uszEzYhd0Sgn",
        "outputId": "0d1b37dd-c0f7-40ec-cab1-3822558bc0ee"
      },
      "execution_count": null,
      "outputs": [
        {
          "output_type": "execute_result",
          "data": {
            "text/plain": [
              "('P1', 'age')                                    0.013598\n",
              "('P2', 'gender')                                 0.001700\n",
              "('P5', 'living_state')                           0.190935\n",
              "('P6', 'born_or_graduated')                      0.019263\n",
              "('P12', 'workers_number')                        0.134844\n",
              "('P13', 'manager')                               0.134844\n",
              "('P16', 'salary_range')                          0.134844\n",
              "('P22', 'most_used_proggraming_languages')       0.486686\n",
              "('P29', 'have_data_warehouse')                   0.550708\n",
              "('P35', 'data_science_plataforms_preference')    0.079320\n",
              "('P35', 'other')                                 0.920680\n",
              "('P36', 'draw_participation')                    0.002266\n",
              "('D1', 'living_macroregion')                     0.190935\n",
              "('D2', 'origin_macroregion')                     0.815864\n",
              "('D3', 'anonymized_degree_area')                 0.019830\n",
              "('D4', 'anonymized_market_sector')               0.137677\n",
              "('D5', 'anonymized_manager_level')               0.827195\n",
              "('D6', 'anonymized_role')                        0.291218\n",
              "dtype: float64"
            ]
          },
          "metadata": {},
          "execution_count": 74
        }
      ]
    },
    {
      "cell_type": "markdown",
      "source": [
        "Agora, vamos ordenar esses valores:"
      ],
      "metadata": {
        "id": "-iz2tprMm3kB"
      }
    },
    {
      "cell_type": "code",
      "source": [
        "df.isnull().mean() [df.isnull().mean() !=0].sort_values()"
      ],
      "metadata": {
        "colab": {
          "base_uri": "https://localhost:8080/"
        },
        "id": "AQ_YsCZw08l1",
        "outputId": "32e53d57-1d58-48b8-88cc-d6331a45864a"
      },
      "execution_count": null,
      "outputs": [
        {
          "output_type": "execute_result",
          "data": {
            "text/plain": [
              "('P2', 'gender')                                 0.001700\n",
              "('P36', 'draw_participation')                    0.002266\n",
              "('P1', 'age')                                    0.013598\n",
              "('P6', 'born_or_graduated')                      0.019263\n",
              "('D3', 'anonymized_degree_area')                 0.019830\n",
              "('P35', 'data_science_plataforms_preference')    0.079320\n",
              "('P12', 'workers_number')                        0.134844\n",
              "('P13', 'manager')                               0.134844\n",
              "('P16', 'salary_range')                          0.134844\n",
              "('D4', 'anonymized_market_sector')               0.137677\n",
              "('P5', 'living_state')                           0.190935\n",
              "('D1', 'living_macroregion')                     0.190935\n",
              "('D6', 'anonymized_role')                        0.291218\n",
              "('P22', 'most_used_proggraming_languages')       0.486686\n",
              "('P29', 'have_data_warehouse')                   0.550708\n",
              "('D2', 'origin_macroregion')                     0.815864\n",
              "('D5', 'anonymized_manager_level')               0.827195\n",
              "('P35', 'other')                                 0.920680\n",
              "dtype: float64"
            ]
          },
          "metadata": {},
          "execution_count": 75
        }
      ]
    },
    {
      "cell_type": "markdown",
      "source": [
        "Queremos computar, agora, as profissões da área de dados que fazem parte do rol de profissionais de dados no Brasil:"
      ],
      "metadata": {
        "id": "5CK-sX-ULoMJ"
      }
    },
    {
      "cell_type": "code",
      "source": [
        "df[\"('D6', 'anonymized_role')\"].value_counts()"
      ],
      "metadata": {
        "colab": {
          "base_uri": "https://localhost:8080/"
        },
        "id": "dKV8dXEG2TTG",
        "outputId": "5d876ea0-5ae6-4317-f9bd-b175c468dad1"
      },
      "execution_count": null,
      "outputs": [
        {
          "output_type": "execute_result",
          "data": {
            "text/plain": [
              "Desenvolvedor ou Engenheiro de Software    225\n",
              "Outras                                     220\n",
              "Data Scientist/Cientista de Dados          167\n",
              "Data Analyst/Analista de Dados             163\n",
              "Business Intelligence/Analista de BI       150\n",
              "Data Engineer/Engenheiro de Dados          130\n",
              "Business Analyst/Analista de Negócios       72\n",
              "Analista de Inteligência de Mercado         29\n",
              "Engenheiro                                  26\n",
              "Analista de Marketing                       19\n",
              "Engenheiro de Machine Learning              15\n",
              "DBA/Administrador de Banco de Dados         14\n",
              "Estatístico                                 11\n",
              "Economista                                  10\n",
              "Name: ('D6', 'anonymized_role'), dtype: int64"
            ]
          },
          "metadata": {},
          "execution_count": 76
        }
      ]
    },
    {
      "cell_type": "markdown",
      "source": [
        "Para facilitar a leitura e apresentação dos dados, vamos agrupar e renomear essas profissões."
      ],
      "metadata": {
        "id": "KTi7PqfELsm2"
      }
    },
    {
      "cell_type": "code",
      "source": [
        "df['profissao']= df[\"('D6', 'anonymized_role')\"].map({'Desenvolvedor ou Engenheiro de Software':'Desenvolvedor/Engenheiro de Software',\n",
        "                                                      'Outras':'Outras',\n",
        "                                                      'Data Scientist/Cientista de Dados':'Cientista de Dados',\n",
        "                                                      'Data Analyst/Analista de Dados':'Analista de Dados',\n",
        "                                                      'Business Intelligence/Analista de BI':'Analista de BI',\n",
        "                                                      'Data Engineer/Engenheiro de Dados':'Engenheiro de Dados', \n",
        "                                                      'Business Analyst/Analista de Negócios':'Analista de BI',\n",
        "                                                      'Analista de Inteligência de Mercado':'Analista de BI',\n",
        "                                                      'Engenheiro':'Outras',\n",
        "                                                      'Analista de Marketing':'Outras',\n",
        "                                                      'Engenheiro de Machine Learning':'Cientista de Dados',\n",
        "                                                      'DBA/Administrador de Banco de Dados':'Engenheiro de Dados',\n",
        "                                                      'Estatístico': 'Cientista de Dados',\n",
        "                                                      'Economista':'Outras'})"
      ],
      "metadata": {
        "id": "3ytj07ko8GY4"
      },
      "execution_count": null,
      "outputs": []
    },
    {
      "cell_type": "markdown",
      "source": [
        "Faremos agora a recontagem das profissões por conta dos novos nomes que foram atribuídos a elas."
      ],
      "metadata": {
        "id": "mxj6r_GqMHtQ"
      }
    },
    {
      "cell_type": "code",
      "source": [
        "df['profissao'].value_counts()"
      ],
      "metadata": {
        "colab": {
          "base_uri": "https://localhost:8080/"
        },
        "id": "AJeuyldQ-YSR",
        "outputId": "cdf17d6b-55ce-483e-e3cb-ffb83a181630"
      },
      "execution_count": null,
      "outputs": [
        {
          "output_type": "execute_result",
          "data": {
            "text/plain": [
              "Outras                                  275\n",
              "Analista de BI                          251\n",
              "Desenvolvedor/Engenheiro de Software    225\n",
              "Cientista de Dados                      193\n",
              "Analista de Dados                       163\n",
              "Engenheiro de Dados                     144\n",
              "Name: profissao, dtype: int64"
            ]
          },
          "metadata": {},
          "execution_count": 78
        }
      ]
    },
    {
      "cell_type": "markdown",
      "source": [
        "Vamos visualizar isso num gráfico do tipo barras:"
      ],
      "metadata": {
        "id": "wgqBIoJFQfrl"
      }
    },
    {
      "cell_type": "code",
      "source": [
        "df['profissao'].value_counts().plot(kind='barh', color='green')"
      ],
      "metadata": {
        "colab": {
          "base_uri": "https://localhost:8080/",
          "height": 282
        },
        "id": "hcu3yX0h-pWY",
        "outputId": "af516223-efbc-4610-c905-7d9ac37818bc"
      },
      "execution_count": null,
      "outputs": [
        {
          "output_type": "execute_result",
          "data": {
            "text/plain": [
              "<matplotlib.axes._subplots.AxesSubplot at 0x7f84afbabe50>"
            ]
          },
          "metadata": {},
          "execution_count": 79
        },
        {
          "output_type": "display_data",
          "data": {
            "text/plain": [
              "<Figure size 432x288 with 1 Axes>"
            ],
            "image/png": "[encoded data removed]"
          },
          "metadata": {
            "needs_background": "light"
          }
        }
      ]
    },
    {
      "cell_type": "markdown",
      "source": [
        "O Engenheiro de dados é o profissional com menor quantidade no mercado, seguido pelo Analista de Dados, Cientista de Dados, Desenvolvedor/Engenheiro de Software, Analista de BI e 'outras'.\n",
        "O maior valor em 'outras' ocorre porque foram agrupadas algumas profissões não mencionadas na pesquisa. A profissão de Engenheiro de dados se destaca visivelmente das outras profissões pois tem uma relação mais de organização dos dados, talvez por isso ela se encontra em menor quantidade no mercado. Por outro lado, grande parte das profissões de dados, são mais voltadas, em geral, para a análise dos dados. A profissão de Engenheiro de software, por ser mais antiga, possui grande quantidade de profissionais, mais do que o Engenheiro de dados, que é uma profissão mais recente que está em ascensão no mercado."
      ],
      "metadata": {
        "id": "iku2BdTMMcGL"
      }
    },
    {
      "cell_type": "markdown",
      "source": [
        "Abaixo, podemos visualizar a quantidade de pessoas inclusas em cada faixa salarial e seu respectivo gráfico:"
      ],
      "metadata": {
        "id": "O0PpG3aOPVmg"
      }
    },
    {
      "cell_type": "code",
      "source": [
        "df[\"('P16', 'salary_range')\"].value_counts()"
      ],
      "metadata": {
        "colab": {
          "base_uri": "https://localhost:8080/"
        },
        "id": "qoz_i6DJ_AaT",
        "outputId": "7c8debaa-276b-40b3-9422-ad3a99c5c1c7"
      },
      "execution_count": null,
      "outputs": [
        {
          "output_type": "execute_result",
          "data": {
            "text/plain": [
              "de R$ 4.001/mês a R$ 6.000/mês      308\n",
              "de R$ 8.001/mês a R$ 12.000/mês     237\n",
              "de R$ 6.001/mês a R$ 8.000/mês      229\n",
              "de R$ 3.001/mês a R$ 4.000/mês      219\n",
              "de R$ 1.001/mês a R$ 2.000/mês      181\n",
              "de R$ 2.001/mês a R$ 3000/mês       150\n",
              "de R$ 12.001/mês a R$ 16.000/mês     82\n",
              "Menos de R$ 1.000/mês                48\n",
              "de R$ 16.001/mês a R$ 20.000/mês     45\n",
              "de R$ 20.001/mês a R$ 25.000/mês     15\n",
              "Acima de R$ 25.001/mês               13\n",
              "Name: ('P16', 'salary_range'), dtype: int64"
            ]
          },
          "metadata": {},
          "execution_count": 80
        }
      ]
    },
    {
      "cell_type": "code",
      "source": [
        "df[\"('P16', 'salary_range')\"].value_counts().plot(kind='barh', color='green')"
      ],
      "metadata": {
        "colab": {
          "base_uri": "https://localhost:8080/",
          "height": 282
        },
        "id": "7sPvMHmsP73y",
        "outputId": "b5573255-46d1-40ad-86ee-d222d36800b4"
      },
      "execution_count": null,
      "outputs": [
        {
          "output_type": "execute_result",
          "data": {
            "text/plain": [
              "<matplotlib.axes._subplots.AxesSubplot at 0x7f84afb204d0>"
            ]
          },
          "metadata": {},
          "execution_count": 81
        },
        {
          "output_type": "display_data",
          "data": {
            "text/plain": [
              "<Figure size 432x288 with 1 Axes>"
            ],
            "image/png": "[encoded data removed]"
          },
          "metadata": {
            "needs_background": "light"
          }
        }
      ]
    },
    {
      "cell_type": "markdown",
      "source": [
        "A grande maioria ganha de 4.000 a 6.000/mês e uma pequena parcela possui salários acima de R$20.000. "
      ],
      "metadata": {
        "id": "XTVg2bSZQxLM"
      }
    },
    {
      "cell_type": "markdown",
      "source": [
        "Aqui, temos os dados das idades dos entrevistados:"
      ],
      "metadata": {
        "id": "ZnbO7zLSRkBb"
      }
    },
    {
      "cell_type": "code",
      "source": [
        "df[\"('P1', 'age')\"]"
      ],
      "metadata": {
        "colab": {
          "base_uri": "https://localhost:8080/"
        },
        "id": "kbdFexbNMLSm",
        "outputId": "c05b538b-1881-427e-dabe-d0093fb756dc"
      },
      "execution_count": null,
      "outputs": [
        {
          "output_type": "execute_result",
          "data": {
            "text/plain": [
              "0       37.0\n",
              "1       24.0\n",
              "2       26.0\n",
              "3       21.0\n",
              "4       27.0\n",
              "        ... \n",
              "1760    23.0\n",
              "1761    39.0\n",
              "1762    36.0\n",
              "1763    29.0\n",
              "1764    22.0\n",
              "Name: ('P1', 'age'), Length: 1765, dtype: float64"
            ]
          },
          "metadata": {},
          "execution_count": 82
        }
      ]
    },
    {
      "cell_type": "markdown",
      "source": [
        "Com o objetivo de trazer maior clareza na visualização dos dados, optou-se por criar o seguinte conjunto de variáveis:"
      ],
      "metadata": {
        "id": "IGWfJ3CORsjF"
      }
    },
    {
      "cell_type": "code",
      "source": [
        "#Pré-processamento básico\n",
        "\n",
        "#criando variáveis mais convenientes\n",
        "\n",
        "#empresa\n",
        "tammap = { 'de 1 a 5': 'Pequena',\n",
        "           ' de 6 a 10': 'Pequena',\n",
        "           'de 11 a 50': 'Pequena',\n",
        "            'de 51 a 100': 'Pequena',\n",
        "            'de 101 a 500': 'Média',\n",
        "            'de 501 a 1000': 'Média',\n",
        "            'de 1001 a 3000' :'Grande',\n",
        "            'Acima de 3000': 'Grande'}\n",
        "\n",
        "# salarios\n",
        "salamap = { 'Menos de R$1.000/mês': 1000,\n",
        "            ' de R$ 1.001/mês a R$ 2.000/mês': 1500,\n",
        "           ' de 2.001/mês a R$ 3000/mês': 2500,\n",
        "           'de R$ 3.001/mês a R$ 4.000/mês': 3500,\n",
        "           'de R$ 4.001/mês a R$ 6.000/mês': 5000,\n",
        "           'de R$ 6.001/mês a R$ 8.000/mês': 7000,\n",
        "           'de R$ 8.001/mês a R$ 12.000/mês': 10000,\n",
        "           'de R$ 12.001/mês a R$ 16.000/mês': 14000,\n",
        "           'de R$ 16.001/mês a R$ 20.000/mês': 18000,\n",
        "           'de R$ 20.001/mês a R$ 25.000/mês' : 22500,\n",
        "           'Acima de R$ 25.001/mês': 25000}\n",
        "\n",
        "#discretização das idades (escolha arbitrária dos cortes)\n",
        "cortes = [0, 24, 30, 40, 100]\n",
        "nomes = ['[18,24]', '[25,30]', '[31,40]', '[41,50]']\n",
        "\n",
        "#criando um novo dataset com as informações de maior interesse\n",
        "\n",
        "df['idade'] = pd.cut(df[\"('P1', 'age')\"], bins=cortes, labels = nomes)\n",
        "\n",
        "df['salario'] = df[\"('P16', 'salary_range')\"].map(salamap)\n",
        "df ['tamanho_da_empresa'] = df[\"('P12', 'workers_number')\"].map(tammap)\n",
        "\n",
        "df['gestor'] = df[\"('P13', 'manager')\"].map({0:'não', 1: 'sim'})\n",
        "df['se_considera_ds'] = df[\"('P19', 'is_data_science_professional')\"].map ({0:'não', 1:'sim'})\n",
        "\n",
        "df['sexo']=df[\"('P2', 'gender')\"]\n",
        "df['experiencia_ds']=df[\"('P17', 'time_experience_data_science')\"]\n",
        "\n",
        "df['tipo_de_trabalho']= df[\"('P10', 'job_situation')\"]\n",
        "df['escolaridade'] = df[\"('P8', 'degreee_level')\"]\n",
        "\n",
        "df['area_de_formacao'] = df[\"('D3', 'anonymized_degree_area')\"]\n",
        "df['setor_de_mercado'] = df[\"('D4', 'anonymized_market_sector')\"]\n",
        "df ['plataforma_favorita'] =df[\"('P35', 'data_science_plataforms_preference')\"]\n",
        "\n",
        "df.head()\n",
        "\n",
        "\n",
        "          "
      ],
      "metadata": {
        "colab": {
          "base_uri": "https://localhost:8080/",
          "height": 542
        },
        "id": "vwYnX7rk_4RU",
        "outputId": "fa73227b-7ced-4290-b283-b15c1c510074"
      },
      "execution_count": null,
      "outputs": [
        {
          "output_type": "execute_result",
          "data": {
            "text/plain": [
              "                       ('P0', 'id')  ('P1', 'age') ('P2', 'gender')  \\\n",
              "0  v9otv8j9wdvjrv9otvwnn9owhzq54ktv           37.0        Masculino   \n",
              "1  875ul998t0hqcv0871uptwf3oswcfv35           24.0         Feminino   \n",
              "2  puscuk079vw1pusbb900pzw2xvpxtgdk           26.0        Masculino   \n",
              "3  rmel8ewqpbffp2mnfbzermel8eqincov           21.0        Masculino   \n",
              "4  pj9mgud4d6mdct1l7vq0pj9mgu78h6ju           27.0        Masculino   \n",
              "\n",
              "   ('P3', 'living_in_brasil') ('P5', 'living_state')  \\\n",
              "0                           1      Minas Gerais (MG)   \n",
              "1                           1         São Paulo (SP)   \n",
              "2                           1         São Paulo (SP)   \n",
              "3                           1         São Paulo (SP)   \n",
              "4                           1                    NaN   \n",
              "\n",
              "   ('P6', 'born_or_graduated') ('P8', 'degreee_level')  \\\n",
              "0                          1.0  Estudante de Graduação   \n",
              "1                          1.0  Estudante de Graduação   \n",
              "2                          1.0   Graduação/Bacharelado   \n",
              "3                          0.0  Estudante de Graduação   \n",
              "4                          1.0   Graduação/Bacharelado   \n",
              "\n",
              "  ('P10', 'job_situation') ('P12', 'workers_number')  ('P13', 'manager')  ...  \\\n",
              "0          Empregado (CTL)                  de 1 a 5                 0.0  ...   \n",
              "1          Empregado (CTL)             Acima de 3000                 0.0  ...   \n",
              "2          Empregado (CTL)             Acima de 3000                 0.0  ...   \n",
              "3               Estagiário                de 11 a 50                 0.0  ...   \n",
              "4               Freelancer                 de 6 a 10                 1.0  ...   \n",
              "\n",
              "  tamanho_da_empresa gestor se_considera_ds       sexo  \\\n",
              "0            Pequena    não             não  Masculino   \n",
              "1             Grande    não             sim   Feminino   \n",
              "2             Grande    não             sim  Masculino   \n",
              "3            Pequena    não             sim  Masculino   \n",
              "4                NaN    sim             sim  Masculino   \n",
              "\n",
              "                           experiencia_ds  tipo_de_trabalho  \\\n",
              "0  Não tenho experiência na área de dados   Empregado (CTL)   \n",
              "1                          Menos de 1 ano   Empregado (CTL)   \n",
              "2                           de 1 a 2 anos   Empregado (CTL)   \n",
              "3                          Menos de 1 ano        Estagiário   \n",
              "4                           de 4 a 5 anos        Freelancer   \n",
              "\n",
              "             escolaridade                                   area_de_formacao  \\\n",
              "0  Estudante de Graduação  Computação / Engenharia de Software / Sistemas...   \n",
              "1  Estudante de Graduação  Computação / Engenharia de Software / Sistemas...   \n",
              "2   Graduação/Bacharelado                                 Outras Engenharias   \n",
              "3  Estudante de Graduação  Computação / Engenharia de Software / Sistemas...   \n",
              "4   Graduação/Bacharelado  Computação / Engenharia de Software / Sistemas...   \n",
              "\n",
              "                 setor_de_mercado      plataforma_favorita  \n",
              "0                          Outras  Nunca fiz cursos online  \n",
              "1                        Educação                      NaN  \n",
              "2          Indústria (Manufatura)                    Udemy  \n",
              "3  Tecnologia/Fábrica de Software                    Alura  \n",
              "4              Internet/Ecommerce                    Udemy  \n",
              "\n",
              "[5 rows x 183 columns]"
            ],
            "text/html": [
              "\n",
              "  <div id=\"df-b2daa8bb-15c4-4c6a-8793-4f1556528d66\">\n",
              "    <div class=\"colab-df-container\">\n",
              "      <div>\n",
              "<style scoped>\n",
              "    .dataframe tbody tr th:only-of-type {\n",
              "        vertical-align: middle;\n",
              "    }\n",
              "\n",
              "    .dataframe tbody tr th {\n",
              "        vertical-align: top;\n",
              "    }\n",
              "\n",
              "    .dataframe thead th {\n",
              "        text-align: right;\n",
              "    }\n",
              "</style>\n",
              "<table border=\"1\" class=\"dataframe\">\n",
              "  <thead>\n",
              "    <tr style=\"text-align: right;\">\n",
              "      <th></th>\n",
              "      <th>('P0', 'id')</th>\n",
              "      <th>('P1', 'age')</th>\n",
              "      <th>('P2', 'gender')</th>\n",
              "      <th>('P3', 'living_in_brasil')</th>\n",
              "      <th>('P5', 'living_state')</th>\n",
              "      <th>('P6', 'born_or_graduated')</th>\n",
              "      <th>('P8', 'degreee_level')</th>\n",
              "      <th>('P10', 'job_situation')</th>\n",
              "      <th>('P12', 'workers_number')</th>\n",
              "      <th>('P13', 'manager')</th>\n",
              "      <th>...</th>\n",
              "      <th>tamanho_da_empresa</th>\n",
              "      <th>gestor</th>\n",
              "      <th>se_considera_ds</th>\n",
              "      <th>sexo</th>\n",
              "      <th>experiencia_ds</th>\n",
              "      <th>tipo_de_trabalho</th>\n",
              "      <th>escolaridade</th>\n",
              "      <th>area_de_formacao</th>\n",
              "      <th>setor_de_mercado</th>\n",
              "      <th>plataforma_favorita</th>\n",
              "    </tr>\n",
              "  </thead>\n",
              "  <tbody>\n",
              "    <tr>\n",
              "      <th>0</th>\n",
              "      <td>v9otv8j9wdvjrv9otvwnn9owhzq54ktv</td>\n",
              "      <td>37.0</td>\n",
              "      <td>Masculino</td>\n",
              "      <td>1</td>\n",
              "      <td>Minas Gerais (MG)</td>\n",
              "      <td>1.0</td>\n",
              "      <td>Estudante de Graduação</td>\n",
              "      <td>Empregado (CTL)</td>\n",
              "      <td>de 1 a 5</td>\n",
              "      <td>0.0</td>\n",
              "      <td>...</td>\n",
              "      <td>Pequena</td>\n",
              "      <td>não</td>\n",
              "      <td>não</td>\n",
              "      <td>Masculino</td>\n",
              "      <td>Não tenho experiência na área de dados</td>\n",
              "      <td>Empregado (CTL)</td>\n",
              "      <td>Estudante de Graduação</td>\n",
              "      <td>Computação / Engenharia de Software / Sistemas...</td>\n",
              "      <td>Outras</td>\n",
              "      <td>Nunca fiz cursos online</td>\n",
              "    </tr>\n",
              "    <tr>\n",
              "      <th>1</th>\n",
              "      <td>875ul998t0hqcv0871uptwf3oswcfv35</td>\n",
              "      <td>24.0</td>\n",
              "      <td>Feminino</td>\n",
              "      <td>1</td>\n",
              "      <td>São Paulo (SP)</td>\n",
              "      <td>1.0</td>\n",
              "      <td>Estudante de Graduação</td>\n",
              "      <td>Empregado (CTL)</td>\n",
              "      <td>Acima de 3000</td>\n",
              "      <td>0.0</td>\n",
              "      <td>...</td>\n",
              "      <td>Grande</td>\n",
              "      <td>não</td>\n",
              "      <td>sim</td>\n",
              "      <td>Feminino</td>\n",
              "      <td>Menos de 1 ano</td>\n",
              "      <td>Empregado (CTL)</td>\n",
              "      <td>Estudante de Graduação</td>\n",
              "      <td>Computação / Engenharia de Software / Sistemas...</td>\n",
              "      <td>Educação</td>\n",
              "      <td>NaN</td>\n",
              "    </tr>\n",
              "    <tr>\n",
              "      <th>2</th>\n",
              "      <td>puscuk079vw1pusbb900pzw2xvpxtgdk</td>\n",
              "      <td>26.0</td>\n",
              "      <td>Masculino</td>\n",
              "      <td>1</td>\n",
              "      <td>São Paulo (SP)</td>\n",
              "      <td>1.0</td>\n",
              "      <td>Graduação/Bacharelado</td>\n",
              "      <td>Empregado (CTL)</td>\n",
              "      <td>Acima de 3000</td>\n",
              "      <td>0.0</td>\n",
              "      <td>...</td>\n",
              "      <td>Grande</td>\n",
              "      <td>não</td>\n",
              "      <td>sim</td>\n",
              "      <td>Masculino</td>\n",
              "      <td>de 1 a 2 anos</td>\n",
              "      <td>Empregado (CTL)</td>\n",
              "      <td>Graduação/Bacharelado</td>\n",
              "      <td>Outras Engenharias</td>\n",
              "      <td>Indústria (Manufatura)</td>\n",
              "      <td>Udemy</td>\n",
              "    </tr>\n",
              "    <tr>\n",
              "      <th>3</th>\n",
              "      <td>rmel8ewqpbffp2mnfbzermel8eqincov</td>\n",
              "      <td>21.0</td>\n",
              "      <td>Masculino</td>\n",
              "      <td>1</td>\n",
              "      <td>São Paulo (SP)</td>\n",
              "      <td>0.0</td>\n",
              "      <td>Estudante de Graduação</td>\n",
              "      <td>Estagiário</td>\n",
              "      <td>de 11 a 50</td>\n",
              "      <td>0.0</td>\n",
              "      <td>...</td>\n",
              "      <td>Pequena</td>\n",
              "      <td>não</td>\n",
              "      <td>sim</td>\n",
              "      <td>Masculino</td>\n",
              "      <td>Menos de 1 ano</td>\n",
              "      <td>Estagiário</td>\n",
              "      <td>Estudante de Graduação</td>\n",
              "      <td>Computação / Engenharia de Software / Sistemas...</td>\n",
              "      <td>Tecnologia/Fábrica de Software</td>\n",
              "      <td>Alura</td>\n",
              "    </tr>\n",
              "    <tr>\n",
              "      <th>4</th>\n",
              "      <td>pj9mgud4d6mdct1l7vq0pj9mgu78h6ju</td>\n",
              "      <td>27.0</td>\n",
              "      <td>Masculino</td>\n",
              "      <td>1</td>\n",
              "      <td>NaN</td>\n",
              "      <td>1.0</td>\n",
              "      <td>Graduação/Bacharelado</td>\n",
              "      <td>Freelancer</td>\n",
              "      <td>de 6 a 10</td>\n",
              "      <td>1.0</td>\n",
              "      <td>...</td>\n",
              "      <td>NaN</td>\n",
              "      <td>sim</td>\n",
              "      <td>sim</td>\n",
              "      <td>Masculino</td>\n",
              "      <td>de 4 a 5 anos</td>\n",
              "      <td>Freelancer</td>\n",
              "      <td>Graduação/Bacharelado</td>\n",
              "      <td>Computação / Engenharia de Software / Sistemas...</td>\n",
              "      <td>Internet/Ecommerce</td>\n",
              "      <td>Udemy</td>\n",
              "    </tr>\n",
              "  </tbody>\n",
              "</table>\n",
              "<p>5 rows × 183 columns</p>\n",
              "</div>\n",
              "      <button class=\"colab-df-convert\" onclick=\"convertToInteractive('df-b2daa8bb-15c4-4c6a-8793-4f1556528d66')\"\n",
              "              title=\"Convert this dataframe to an interactive table.\"\n",
              "              style=\"display:none;\">\n",
              "        \n",
              "  <svg xmlns=\"http://www.w3.org/2000/svg\" height=\"24px\"viewBox=\"0 0 24 24\"\n",
              "       width=\"24px\">\n",
              "    <path d=\"M0 0h24v24H0V0z\" fill=\"none\"/>\n",
              "    <path d=\"M18.56 5.44l.94 2.06.94-2.06 2.06-.94-2.06-.94-.94-2.06-.94 2.06-2.06.94zm-11 1L8.5 8.5l.94-2.06 2.06-.94-2.06-.94L8.5 2.5l-.94 2.06-2.06.94zm10 10l.94 2.06.94-2.06 2.06-.94-2.06-.94-.94-2.06-.94 2.06-2.06.94z\"/><path d=\"M17.41 7.96l-1.37-1.37c-.4-.4-.92-.59-1.43-.59-.52 0-1.04.2-1.43.59L10.3 9.45l-7.72 7.72c-.78.78-.78 2.05 0 2.83L4 21.41c.39.39.9.59 1.41.59.51 0 1.02-.2 1.41-.59l7.78-7.78 2.81-2.81c.8-.78.8-2.07 0-2.86zM5.41 20L4 18.59l7.72-7.72 1.47 1.35L5.41 20z\"/>\n",
              "  </svg>\n",
              "      </button>\n",
              "      \n",
              "  <style>\n",
              "    .colab-df-container {\n",
              "      display:flex;\n",
              "      flex-wrap:wrap;\n",
              "      gap: 12px;\n",
              "    }\n",
              "\n",
              "    .colab-df-convert {\n",
              "      background-color: #E8F0FE;\n",
              "      border: none;\n",
              "      border-radius: 50%;\n",
              "      cursor: pointer;\n",
              "      display: none;\n",
              "      fill: #1967D2;\n",
              "      height: 32px;\n",
              "      padding: 0 0 0 0;\n",
              "      width: 32px;\n",
              "    }\n",
              "\n",
              "    .colab-df-convert:hover {\n",
              "      background-color: #E2EBFA;\n",
              "      box-shadow: 0px 1px 2px rgba(60, 64, 67, 0.3), 0px 1px 3px 1px rgba(60, 64, 67, 0.15);\n",
              "      fill: #174EA6;\n",
              "    }\n",
              "\n",
              "    [theme=dark] .colab-df-convert {\n",
              "      background-color: #3B4455;\n",
              "      fill: #D2E3FC;\n",
              "    }\n",
              "\n",
              "    [theme=dark] .colab-df-convert:hover {\n",
              "      background-color: #434B5C;\n",
              "      box-shadow: 0px 1px 3px 1px rgba(0, 0, 0, 0.15);\n",
              "      filter: drop-shadow(0px 1px 2px rgba(0, 0, 0, 0.3));\n",
              "      fill: #FFFFFF;\n",
              "    }\n",
              "  </style>\n",
              "\n",
              "      <script>\n",
              "        const buttonEl =\n",
              "          document.querySelector('#df-b2daa8bb-15c4-4c6a-8793-4f1556528d66 button.colab-df-convert');\n",
              "        buttonEl.style.display =\n",
              "          google.colab.kernel.accessAllowed ? 'block' : 'none';\n",
              "\n",
              "        async function convertToInteractive(key) {\n",
              "          const element = document.querySelector('#df-b2daa8bb-15c4-4c6a-8793-4f1556528d66');\n",
              "          const dataTable =\n",
              "            await google.colab.kernel.invokeFunction('convertToInteractive',\n",
              "                                                     [key], {});\n",
              "          if (!dataTable) return;\n",
              "\n",
              "          const docLinkHtml = 'Like what you see? Visit the ' +\n",
              "            '<a target=\"_blank\" href=https://colab.research.google.com/notebooks/data_table.ipynb>data table notebook</a>'\n",
              "            + ' to learn more about interactive tables.';\n",
              "          element.innerHTML = '';\n",
              "          dataTable['output_type'] = 'display_data';\n",
              "          await google.colab.output.renderOutput(dataTable, element);\n",
              "          const docLink = document.createElement('div');\n",
              "          docLink.innerHTML = docLinkHtml;\n",
              "          element.appendChild(docLink);\n",
              "        }\n",
              "      </script>\n",
              "    </div>\n",
              "  </div>\n",
              "  "
            ]
          },
          "metadata": {},
          "execution_count": 83
        }
      ]
    },
    {
      "cell_type": "code",
      "source": [
        "df['salario'].mean()"
      ],
      "metadata": {
        "colab": {
          "base_uri": "https://localhost:8080/"
        },
        "id": "TAGeeCKQcOBC",
        "outputId": "4cc4e657-a729-48d1-f7bb-dbe8e1af17b0"
      },
      "execution_count": null,
      "outputs": [
        {
          "output_type": "execute_result",
          "data": {
            "text/plain": [
              "7752.613240418118"
            ]
          },
          "metadata": {},
          "execution_count": 84
        }
      ]
    },
    {
      "cell_type": "markdown",
      "source": [
        "Os dados foram agrupados pela categoria \"profissão\" e as médias dos atributos foram calculadas e disponibilizadas na tabela a seguir."
      ],
      "metadata": {
        "id": "eu0xHQmmThus"
      }
    },
    {
      "cell_type": "code",
      "source": [
        "df.groupby(['profissao']).mean()"
      ],
      "metadata": {
        "colab": {
          "base_uri": "https://localhost:8080/",
          "height": 397
        },
        "id": "Wu21Y0OsdA79",
        "outputId": "1db8790d-c70f-456c-da61-867313f0d432"
      },
      "execution_count": null,
      "outputs": [
        {
          "output_type": "execute_result",
          "data": {
            "text/plain": [
              "                                      ('P1', 'age')  \\\n",
              "profissao                                             \n",
              "Analista de BI                            29.330645   \n",
              "Analista de Dados                         28.840491   \n",
              "Cientista de Dados                        28.182292   \n",
              "Desenvolvedor/Engenheiro de Software      29.153153   \n",
              "Engenheiro de Dados                       29.157143   \n",
              "Outras                                    30.238806   \n",
              "\n",
              "                                      ('P3', 'living_in_brasil')  \\\n",
              "profissao                                                          \n",
              "Analista de BI                                          0.996016   \n",
              "Analista de Dados                                       0.993865   \n",
              "Cientista de Dados                                      0.979275   \n",
              "Desenvolvedor/Engenheiro de Software                    0.995556   \n",
              "Engenheiro de Dados                                     0.958333   \n",
              "Outras                                                  0.985455   \n",
              "\n",
              "                                      ('P6', 'born_or_graduated')  \\\n",
              "profissao                                                           \n",
              "Analista de BI                                           0.872000   \n",
              "Analista de Dados                                        0.839506   \n",
              "Cientista de Dados                                       0.677249   \n",
              "Desenvolvedor/Engenheiro de Software                     0.812500   \n",
              "Engenheiro de Dados                                      0.818841   \n",
              "Outras                                                   0.800738   \n",
              "\n",
              "                                      ('P13', 'manager')  \\\n",
              "profissao                                                  \n",
              "Analista de BI                                  0.035857   \n",
              "Analista de Dados                               0.018405   \n",
              "Cientista de Dados                              0.000000   \n",
              "Desenvolvedor/Engenheiro de Software            0.022222   \n",
              "Engenheiro de Dados                             0.034722   \n",
              "Outras                                          0.025455   \n",
              "\n",
              "                                      ('P19', 'is_data_science_professional')  \\\n",
              "profissao                                                                       \n",
              "Analista de BI                                                       0.462151   \n",
              "Analista de Dados                                                    0.803681   \n",
              "Cientista de Dados                                                   0.963731   \n",
              "Desenvolvedor/Engenheiro de Software                                 0.262222   \n",
              "Engenheiro de Dados                                                  0.680556   \n",
              "Outras                                                               0.174545   \n",
              "\n",
              "                                      ('P20', 'linear_regression')  \\\n",
              "profissao                                                            \n",
              "Analista de BI                                            0.187251   \n",
              "Analista de Dados                                         0.361963   \n",
              "Cientista de Dados                                        0.740933   \n",
              "Desenvolvedor/Engenheiro de Software                      0.124444   \n",
              "Engenheiro de Dados                                       0.270833   \n",
              "Outras                                                    0.080000   \n",
              "\n",
              "                                      ('P20', 'logistic_regression')  \\\n",
              "profissao                                                              \n",
              "Analista de BI                                              0.103586   \n",
              "Analista de Dados                                           0.300613   \n",
              "Cientista de Dados                                          0.673575   \n",
              "Desenvolvedor/Engenheiro de Software                        0.071111   \n",
              "Engenheiro de Dados                                         0.145833   \n",
              "Outras                                                      0.058182   \n",
              "\n",
              "                                      ('P20', 'glms')  \\\n",
              "profissao                                               \n",
              "Analista de BI                               0.023904   \n",
              "Analista de Dados                            0.055215   \n",
              "Cientista de Dados                           0.290155   \n",
              "Desenvolvedor/Engenheiro de Software         0.008889   \n",
              "Engenheiro de Dados                          0.013889   \n",
              "Outras                                       0.003636   \n",
              "\n",
              "                                      ('P20', 'decision_tree')  \\\n",
              "profissao                                                        \n",
              "Analista de BI                                        0.131474   \n",
              "Analista de Dados                                     0.276074   \n",
              "Cientista de Dados                                    0.652850   \n",
              "Desenvolvedor/Engenheiro de Software                  0.120000   \n",
              "Engenheiro de Dados                                   0.180556   \n",
              "Outras                                                0.061818   \n",
              "\n",
              "                                      ('P20', 'random_forest')  ...  \\\n",
              "profissao                                                       ...   \n",
              "Analista de BI                                        0.055777  ...   \n",
              "Analista de Dados                                     0.214724  ...   \n",
              "Cientista de Dados                                    0.647668  ...   \n",
              "Desenvolvedor/Engenheiro de Software                  0.075556  ...   \n",
              "Engenheiro de Dados                                   0.159722  ...   \n",
              "Outras                                                0.043636  ...   \n",
              "\n",
              "                                      ('P34', 'udemy')  ('P34', 'height')  \\\n",
              "profissao                                                                   \n",
              "Analista de BI                                0.709163           0.191235   \n",
              "Analista de Dados                             0.742331           0.171779   \n",
              "Cientista de Dados                            0.663212           0.129534   \n",
              "Desenvolvedor/Engenheiro de Software          0.591111           0.235556   \n",
              "Engenheiro de Dados                           0.673611           0.256944   \n",
              "Outras                                        0.607273           0.138182   \n",
              "\n",
              "                                      ('P34', 'edx')  ('P34', 'data_camp')  \\\n",
              "profissao                                                                    \n",
              "Analista de BI                              0.115538              0.155378   \n",
              "Analista de Dados                           0.134969              0.220859   \n",
              "Cientista de Dados                          0.300518              0.393782   \n",
              "Desenvolvedor/Engenheiro de Software        0.137778              0.191111   \n",
              "Engenheiro de Dados                         0.104167              0.180556   \n",
              "Outras                                      0.167273              0.163636   \n",
              "\n",
              "                                      ('P34', 'data_quest')  \\\n",
              "profissao                                                     \n",
              "Analista de BI                                     0.035857   \n",
              "Analista de Dados                                  0.036810   \n",
              "Cientista de Dados                                 0.046632   \n",
              "Desenvolvedor/Engenheiro de Software               0.031111   \n",
              "Engenheiro de Dados                                0.034722   \n",
              "Outras                                             0.036364   \n",
              "\n",
              "                                      ('P34', 'kaggle_learn')  \\\n",
              "profissao                                                       \n",
              "Analista de BI                                       0.163347   \n",
              "Analista de Dados                                    0.208589   \n",
              "Cientista de Dados                                   0.295337   \n",
              "Desenvolvedor/Engenheiro de Software                 0.200000   \n",
              "Engenheiro de Dados                                  0.090278   \n",
              "Outras                                               0.127273   \n",
              "\n",
              "                                      ('P34', 'online_courses')  \\\n",
              "profissao                                                         \n",
              "Analista de BI                                         0.083665   \n",
              "Analista de Dados                                      0.061350   \n",
              "Cientista de Dados                                     0.056995   \n",
              "Desenvolvedor/Engenheiro de Software                   0.088889   \n",
              "Engenheiro de Dados                                    0.097222   \n",
              "Outras                                                 0.134545   \n",
              "\n",
              "                                      ('P34', 'other')  \\\n",
              "profissao                                                \n",
              "Analista de BI                                0.187251   \n",
              "Analista de Dados                             0.177914   \n",
              "Cientista de Dados                            0.046632   \n",
              "Desenvolvedor/Engenheiro de Software          0.106667   \n",
              "Engenheiro de Dados                           0.083333   \n",
              "Outras                                        0.152727   \n",
              "\n",
              "                                      ('P36', 'draw_participation')  \\\n",
              "profissao                                                             \n",
              "Analista de BI                                             0.868526   \n",
              "Analista de Dados                                          0.833333   \n",
              "Cientista de Dados                                         0.699482   \n",
              "Desenvolvedor/Engenheiro de Software                       0.861607   \n",
              "Engenheiro de Dados                                        0.868056   \n",
              "Outras                                                     0.836364   \n",
              "\n",
              "                                          salario  \n",
              "profissao                                          \n",
              "Analista de BI                        6158.469945  \n",
              "Analista de Dados                     5856.589147  \n",
              "Cientista de Dados                    7936.708861  \n",
              "Desenvolvedor/Engenheiro de Software  6955.172414  \n",
              "Engenheiro de Dados                   8831.967213  \n",
              "Outras                                7027.777778  \n",
              "\n",
              "[6 rows x 152 columns]"
            ],
            "text/html": [
              "\n",
              "  <div id=\"df-1fd5c0c4-9b8b-43dc-b690-c00490321481\">\n",
              "    <div class=\"colab-df-container\">\n",
              "      <div>\n",
              "<style scoped>\n",
              "    .dataframe tbody tr th:only-of-type {\n",
              "        vertical-align: middle;\n",
              "    }\n",
              "\n",
              "    .dataframe tbody tr th {\n",
              "        vertical-align: top;\n",
              "    }\n",
              "\n",
              "    .dataframe thead th {\n",
              "        text-align: right;\n",
              "    }\n",
              "</style>\n",
              "<table border=\"1\" class=\"dataframe\">\n",
              "  <thead>\n",
              "    <tr style=\"text-align: right;\">\n",
              "      <th></th>\n",
              "      <th>('P1', 'age')</th>\n",
              "      <th>('P3', 'living_in_brasil')</th>\n",
              "      <th>('P6', 'born_or_graduated')</th>\n",
              "      <th>('P13', 'manager')</th>\n",
              "      <th>('P19', 'is_data_science_professional')</th>\n",
              "      <th>('P20', 'linear_regression')</th>\n",
              "      <th>('P20', 'logistic_regression')</th>\n",
              "      <th>('P20', 'glms')</th>\n",
              "      <th>('P20', 'decision_tree')</th>\n",
              "      <th>('P20', 'random_forest')</th>\n",
              "      <th>...</th>\n",
              "      <th>('P34', 'udemy')</th>\n",
              "      <th>('P34', 'height')</th>\n",
              "      <th>('P34', 'edx')</th>\n",
              "      <th>('P34', 'data_camp')</th>\n",
              "      <th>('P34', 'data_quest')</th>\n",
              "      <th>('P34', 'kaggle_learn')</th>\n",
              "      <th>('P34', 'online_courses')</th>\n",
              "      <th>('P34', 'other')</th>\n",
              "      <th>('P36', 'draw_participation')</th>\n",
              "      <th>salario</th>\n",
              "    </tr>\n",
              "    <tr>\n",
              "      <th>profissao</th>\n",
              "      <th></th>\n",
              "      <th></th>\n",
              "      <th></th>\n",
              "      <th></th>\n",
              "      <th></th>\n",
              "      <th></th>\n",
              "      <th></th>\n",
              "      <th></th>\n",
              "      <th></th>\n",
              "      <th></th>\n",
              "      <th></th>\n",
              "      <th></th>\n",
              "      <th></th>\n",
              "      <th></th>\n",
              "      <th></th>\n",
              "      <th></th>\n",
              "      <th></th>\n",
              "      <th></th>\n",
              "      <th></th>\n",
              "      <th></th>\n",
              "      <th></th>\n",
              "    </tr>\n",
              "  </thead>\n",
              "  <tbody>\n",
              "    <tr>\n",
              "      <th>Analista de BI</th>\n",
              "      <td>29.330645</td>\n",
              "      <td>0.996016</td>\n",
              "      <td>0.872000</td>\n",
              "      <td>0.035857</td>\n",
              "      <td>0.462151</td>\n",
              "      <td>0.187251</td>\n",
              "      <td>0.103586</td>\n",
              "      <td>0.023904</td>\n",
              "      <td>0.131474</td>\n",
              "      <td>0.055777</td>\n",
              "      <td>...</td>\n",
              "      <td>0.709163</td>\n",
              "      <td>0.191235</td>\n",
              "      <td>0.115538</td>\n",
              "      <td>0.155378</td>\n",
              "      <td>0.035857</td>\n",
              "      <td>0.163347</td>\n",
              "      <td>0.083665</td>\n",
              "      <td>0.187251</td>\n",
              "      <td>0.868526</td>\n",
              "      <td>6158.469945</td>\n",
              "    </tr>\n",
              "    <tr>\n",
              "      <th>Analista de Dados</th>\n",
              "      <td>28.840491</td>\n",
              "      <td>0.993865</td>\n",
              "      <td>0.839506</td>\n",
              "      <td>0.018405</td>\n",
              "      <td>0.803681</td>\n",
              "      <td>0.361963</td>\n",
              "      <td>0.300613</td>\n",
              "      <td>0.055215</td>\n",
              "      <td>0.276074</td>\n",
              "      <td>0.214724</td>\n",
              "      <td>...</td>\n",
              "      <td>0.742331</td>\n",
              "      <td>0.171779</td>\n",
              "      <td>0.134969</td>\n",
              "      <td>0.220859</td>\n",
              "      <td>0.036810</td>\n",
              "      <td>0.208589</td>\n",
              "      <td>0.061350</td>\n",
              "      <td>0.177914</td>\n",
              "      <td>0.833333</td>\n",
              "      <td>5856.589147</td>\n",
              "    </tr>\n",
              "    <tr>\n",
              "      <th>Cientista de Dados</th>\n",
              "      <td>28.182292</td>\n",
              "      <td>0.979275</td>\n",
              "      <td>0.677249</td>\n",
              "      <td>0.000000</td>\n",
              "      <td>0.963731</td>\n",
              "      <td>0.740933</td>\n",
              "      <td>0.673575</td>\n",
              "      <td>0.290155</td>\n",
              "      <td>0.652850</td>\n",
              "      <td>0.647668</td>\n",
              "      <td>...</td>\n",
              "      <td>0.663212</td>\n",
              "      <td>0.129534</td>\n",
              "      <td>0.300518</td>\n",
              "      <td>0.393782</td>\n",
              "      <td>0.046632</td>\n",
              "      <td>0.295337</td>\n",
              "      <td>0.056995</td>\n",
              "      <td>0.046632</td>\n",
              "      <td>0.699482</td>\n",
              "      <td>7936.708861</td>\n",
              "    </tr>\n",
              "    <tr>\n",
              "      <th>Desenvolvedor/Engenheiro de Software</th>\n",
              "      <td>29.153153</td>\n",
              "      <td>0.995556</td>\n",
              "      <td>0.812500</td>\n",
              "      <td>0.022222</td>\n",
              "      <td>0.262222</td>\n",
              "      <td>0.124444</td>\n",
              "      <td>0.071111</td>\n",
              "      <td>0.008889</td>\n",
              "      <td>0.120000</td>\n",
              "      <td>0.075556</td>\n",
              "      <td>...</td>\n",
              "      <td>0.591111</td>\n",
              "      <td>0.235556</td>\n",
              "      <td>0.137778</td>\n",
              "      <td>0.191111</td>\n",
              "      <td>0.031111</td>\n",
              "      <td>0.200000</td>\n",
              "      <td>0.088889</td>\n",
              "      <td>0.106667</td>\n",
              "      <td>0.861607</td>\n",
              "      <td>6955.172414</td>\n",
              "    </tr>\n",
              "    <tr>\n",
              "      <th>Engenheiro de Dados</th>\n",
              "      <td>29.157143</td>\n",
              "      <td>0.958333</td>\n",
              "      <td>0.818841</td>\n",
              "      <td>0.034722</td>\n",
              "      <td>0.680556</td>\n",
              "      <td>0.270833</td>\n",
              "      <td>0.145833</td>\n",
              "      <td>0.013889</td>\n",
              "      <td>0.180556</td>\n",
              "      <td>0.159722</td>\n",
              "      <td>...</td>\n",
              "      <td>0.673611</td>\n",
              "      <td>0.256944</td>\n",
              "      <td>0.104167</td>\n",
              "      <td>0.180556</td>\n",
              "      <td>0.034722</td>\n",
              "      <td>0.090278</td>\n",
              "      <td>0.097222</td>\n",
              "      <td>0.083333</td>\n",
              "      <td>0.868056</td>\n",
              "      <td>8831.967213</td>\n",
              "    </tr>\n",
              "    <tr>\n",
              "      <th>Outras</th>\n",
              "      <td>30.238806</td>\n",
              "      <td>0.985455</td>\n",
              "      <td>0.800738</td>\n",
              "      <td>0.025455</td>\n",
              "      <td>0.174545</td>\n",
              "      <td>0.080000</td>\n",
              "      <td>0.058182</td>\n",
              "      <td>0.003636</td>\n",
              "      <td>0.061818</td>\n",
              "      <td>0.043636</td>\n",
              "      <td>...</td>\n",
              "      <td>0.607273</td>\n",
              "      <td>0.138182</td>\n",
              "      <td>0.167273</td>\n",
              "      <td>0.163636</td>\n",
              "      <td>0.036364</td>\n",
              "      <td>0.127273</td>\n",
              "      <td>0.134545</td>\n",
              "      <td>0.152727</td>\n",
              "      <td>0.836364</td>\n",
              "      <td>7027.777778</td>\n",
              "    </tr>\n",
              "  </tbody>\n",
              "</table>\n",
              "<p>6 rows × 152 columns</p>\n",
              "</div>\n",
              "      <button class=\"colab-df-convert\" onclick=\"convertToInteractive('df-1fd5c0c4-9b8b-43dc-b690-c00490321481')\"\n",
              "              title=\"Convert this dataframe to an interactive table.\"\n",
              "              style=\"display:none;\">\n",
              "        \n",
              "  <svg xmlns=\"http://www.w3.org/2000/svg\" height=\"24px\"viewBox=\"0 0 24 24\"\n",
              "       width=\"24px\">\n",
              "    <path d=\"M0 0h24v24H0V0z\" fill=\"none\"/>\n",
              "    <path d=\"M18.56 5.44l.94 2.06.94-2.06 2.06-.94-2.06-.94-.94-2.06-.94 2.06-2.06.94zm-11 1L8.5 8.5l.94-2.06 2.06-.94-2.06-.94L8.5 2.5l-.94 2.06-2.06.94zm10 10l.94 2.06.94-2.06 2.06-.94-2.06-.94-.94-2.06-.94 2.06-2.06.94z\"/><path d=\"M17.41 7.96l-1.37-1.37c-.4-.4-.92-.59-1.43-.59-.52 0-1.04.2-1.43.59L10.3 9.45l-7.72 7.72c-.78.78-.78 2.05 0 2.83L4 21.41c.39.39.9.59 1.41.59.51 0 1.02-.2 1.41-.59l7.78-7.78 2.81-2.81c.8-.78.8-2.07 0-2.86zM5.41 20L4 18.59l7.72-7.72 1.47 1.35L5.41 20z\"/>\n",
              "  </svg>\n",
              "      </button>\n",
              "      \n",
              "  <style>\n",
              "    .colab-df-container {\n",
              "      display:flex;\n",
              "      flex-wrap:wrap;\n",
              "      gap: 12px;\n",
              "    }\n",
              "\n",
              "    .colab-df-convert {\n",
              "      background-color: #E8F0FE;\n",
              "      border: none;\n",
              "      border-radius: 50%;\n",
              "      cursor: pointer;\n",
              "      display: none;\n",
              "      fill: #1967D2;\n",
              "      height: 32px;\n",
              "      padding: 0 0 0 0;\n",
              "      width: 32px;\n",
              "    }\n",
              "\n",
              "    .colab-df-convert:hover {\n",
              "      background-color: #E2EBFA;\n",
              "      box-shadow: 0px 1px 2px rgba(60, 64, 67, 0.3), 0px 1px 3px 1px rgba(60, 64, 67, 0.15);\n",
              "      fill: #174EA6;\n",
              "    }\n",
              "\n",
              "    [theme=dark] .colab-df-convert {\n",
              "      background-color: #3B4455;\n",
              "      fill: #D2E3FC;\n",
              "    }\n",
              "\n",
              "    [theme=dark] .colab-df-convert:hover {\n",
              "      background-color: #434B5C;\n",
              "      box-shadow: 0px 1px 3px 1px rgba(0, 0, 0, 0.15);\n",
              "      filter: drop-shadow(0px 1px 2px rgba(0, 0, 0, 0.3));\n",
              "      fill: #FFFFFF;\n",
              "    }\n",
              "  </style>\n",
              "\n",
              "      <script>\n",
              "        const buttonEl =\n",
              "          document.querySelector('#df-1fd5c0c4-9b8b-43dc-b690-c00490321481 button.colab-df-convert');\n",
              "        buttonEl.style.display =\n",
              "          google.colab.kernel.accessAllowed ? 'block' : 'none';\n",
              "\n",
              "        async function convertToInteractive(key) {\n",
              "          const element = document.querySelector('#df-1fd5c0c4-9b8b-43dc-b690-c00490321481');\n",
              "          const dataTable =\n",
              "            await google.colab.kernel.invokeFunction('convertToInteractive',\n",
              "                                                     [key], {});\n",
              "          if (!dataTable) return;\n",
              "\n",
              "          const docLinkHtml = 'Like what you see? Visit the ' +\n",
              "            '<a target=\"_blank\" href=https://colab.research.google.com/notebooks/data_table.ipynb>data table notebook</a>'\n",
              "            + ' to learn more about interactive tables.';\n",
              "          element.innerHTML = '';\n",
              "          dataTable['output_type'] = 'display_data';\n",
              "          await google.colab.output.renderOutput(dataTable, element);\n",
              "          const docLink = document.createElement('div');\n",
              "          docLink.innerHTML = docLinkHtml;\n",
              "          element.appendChild(docLink);\n",
              "        }\n",
              "      </script>\n",
              "    </div>\n",
              "  </div>\n",
              "  "
            ]
          },
          "metadata": {},
          "execution_count": 85
        }
      ]
    },
    {
      "cell_type": "markdown",
      "source": [
        "Aqui foi feita a média dos salários dos profissionais de dados. O maior salário corresponde ao do Engenheiro de Dados e o menor, do Analista de dados."
      ],
      "metadata": {
        "id": "QvZjukWNWt5q"
      }
    },
    {
      "cell_type": "code",
      "source": [
        "df.groupby(['profissao']).mean()['salario'].round(2)"
      ],
      "metadata": {
        "colab": {
          "base_uri": "https://localhost:8080/"
        },
        "id": "iEPjJ4YQdQS7",
        "outputId": "06451cd4-2f6f-4e7e-8a43-7649cd7e1eec"
      },
      "execution_count": null,
      "outputs": [
        {
          "output_type": "execute_result",
          "data": {
            "text/plain": [
              "profissao\n",
              "Analista de BI                          6158.47\n",
              "Analista de Dados                       5856.59\n",
              "Cientista de Dados                      7936.71\n",
              "Desenvolvedor/Engenheiro de Software    6955.17\n",
              "Engenheiro de Dados                     8831.97\n",
              "Outras                                  7027.78\n",
              "Name: salario, dtype: float64"
            ]
          },
          "metadata": {},
          "execution_count": 86
        }
      ]
    },
    {
      "cell_type": "markdown",
      "source": [
        "Abaixo, tem-se a média salarial por faixa etária. Quanto maior a idade, maior o salário. Tal fato pode ser relacionado aos anos de experiência, seu background. Quanto maior sua experiência, maior o salário. \n",
        "\n",
        "\n",
        "\n"
      ],
      "metadata": {
        "id": "yN49PgMlW7C6"
      }
    },
    {
      "cell_type": "code",
      "source": [
        "df.groupby(['idade']).mean()['salario'].round(2)"
      ],
      "metadata": {
        "colab": {
          "base_uri": "https://localhost:8080/"
        },
        "id": "x1q0dTMafCee",
        "outputId": "399a3bc0-ff52-4156-bf18-e76b03b82461"
      },
      "execution_count": null,
      "outputs": [
        {
          "output_type": "execute_result",
          "data": {
            "text/plain": [
              "idade\n",
              "[18,24]     5141.22\n",
              "[25,30]     6491.99\n",
              "[31,40]     9053.15\n",
              "[41,50]    10116.50\n",
              "Name: salario, dtype: float64"
            ]
          },
          "metadata": {},
          "execution_count": 87
        }
      ]
    },
    {
      "cell_type": "markdown",
      "source": [
        "Na tabela abaixo pode-se comprovar o que foi dito anteriormente."
      ],
      "metadata": {
        "id": "mMqjf3soX4O0"
      }
    },
    {
      "cell_type": "code",
      "source": [
        "df.groupby(['experiencia_ds']).mean()['salario'].round(2)"
      ],
      "metadata": {
        "colab": {
          "base_uri": "https://localhost:8080/"
        },
        "id": "5fCCEw4fg9Au",
        "outputId": "57847c22-a79d-4d8f-f9c6-0bf88d43b50e"
      },
      "execution_count": null,
      "outputs": [
        {
          "output_type": "execute_result",
          "data": {
            "text/plain": [
              "experiencia_ds\n",
              "Mais de 10 anos                           11125.00\n",
              "Menos de 1 ano                             5929.69\n",
              "Não tenho experiência na área de dados     6758.06\n",
              "de 1 a 2 anos                              6334.84\n",
              "de 2 a 3 anos                              6924.24\n",
              "de 4 a 5 anos                              8826.92\n",
              "de 6 a 10 anos                             9789.63\n",
              "Name: salario, dtype: float64"
            ]
          },
          "metadata": {},
          "execution_count": 88
        }
      ]
    },
    {
      "cell_type": "code",
      "source": [
        "df_cds = df[df['profissao']=='Cientista de Dados']"
      ],
      "metadata": {
        "id": "COp7eTgdh7c3"
      },
      "execution_count": null,
      "outputs": []
    },
    {
      "cell_type": "code",
      "source": [
        "df_cds.groupby(['experiencia_ds']).mean()['salario'].round(2)"
      ],
      "metadata": {
        "colab": {
          "base_uri": "https://localhost:8080/"
        },
        "id": "4F3Zgtf-iYC9",
        "outputId": "7ac7db5c-1c39-412a-c783-e872511eac14"
      },
      "execution_count": null,
      "outputs": [
        {
          "output_type": "execute_result",
          "data": {
            "text/plain": [
              "experiencia_ds\n",
              "Mais de 10 anos                           12277.78\n",
              "Menos de 1 ano                             5318.18\n",
              "Não tenho experiência na área de dados         NaN\n",
              "de 1 a 2 anos                              6042.55\n",
              "de 2 a 3 anos                              6928.57\n",
              "de 4 a 5 anos                             11340.00\n",
              "de 6 a 10 anos                            12923.08\n",
              "Name: salario, dtype: float64"
            ]
          },
          "metadata": {},
          "execution_count": 90
        }
      ]
    },
    {
      "cell_type": "markdown",
      "source": [
        "Aqui temos a relação do salário com o sexo do profissional. Observa-se a desigualdade salarial entre homens e mulheres, infelizmente, tão comum ainda nos dias atuais. \n",
        "\n",
        "\n"
      ],
      "metadata": {
        "id": "JfRCEdXmZx4G"
      }
    },
    {
      "cell_type": "code",
      "source": [
        "df_cds.groupby(['sexo']).mean()['salario'].round(2).plot(kind='bar')"
      ],
      "metadata": {
        "colab": {
          "base_uri": "https://localhost:8080/",
          "height": 336
        },
        "id": "WttB3BKUit4A",
        "outputId": "e5293baf-b5f1-4b9c-c18e-8ddaa97095d8"
      },
      "execution_count": null,
      "outputs": [
        {
          "output_type": "execute_result",
          "data": {
            "text/plain": [
              "<matplotlib.axes._subplots.AxesSubplot at 0x7f84afd49410>"
            ]
          },
          "metadata": {},
          "execution_count": 91
        },
        {
          "output_type": "display_data",
          "data": {
            "text/plain": [
              "<Figure size 432x288 with 1 Axes>"
            ],
            "image/png": "[encoded data removed]"
          },
          "metadata": {
            "needs_background": "light"
          }
        }
      ]
    },
    {
      "cell_type": "markdown",
      "source": [
        "Aqui temos outro tipo de gráfico, para visualizar a quantidade total dos salários entre homens e mulheres. Nota-se que há uma diferença maior do que quando comparado à média desses salários."
      ],
      "metadata": {
        "id": "YRYna_nDaOy1"
      }
    },
    {
      "cell_type": "code",
      "source": [
        "df_cds.groupby(['sexo']).count()['salario'].round(2).plot(kind='pie')"
      ],
      "metadata": {
        "colab": {
          "base_uri": "https://localhost:8080/",
          "height": 265
        },
        "id": "wSihf8PHjtFN",
        "outputId": "f51b0213-396b-41f5-c676-043fbd705f7f"
      },
      "execution_count": null,
      "outputs": [
        {
          "output_type": "execute_result",
          "data": {
            "text/plain": [
              "<matplotlib.axes._subplots.AxesSubplot at 0x7f84afc00610>"
            ]
          },
          "metadata": {},
          "execution_count": 92
        },
        {
          "output_type": "display_data",
          "data": {
            "text/plain": [
              "<Figure size 432x288 with 1 Axes>"
            ],
            "image/png": "[encoded data removed]"
          },
          "metadata": {}
        }
      ]
    },
    {
      "cell_type": "markdown",
      "source": [
        "Abaixo, tem-se relação do tamanho da empresa e o salário por gênero. A discrepância ocorre nos diferentes portes das empresas, mas ela ocorre em menor grau em empresas de grande porte. Tal fato pode ocorrer por haver maior visibilidade deste tipo de empresa no mercado. Empresas deste porte tendem a se comportar de maneira mais correta e de acordo com o que se espera de uma sociedade mais justa e igualitária, ou seja, equidade entre salários de homens e mulheres."
      ],
      "metadata": {
        "id": "dQgmR3dkaZwC"
      }
    },
    {
      "cell_type": "code",
      "source": [
        "df_cds.groupby(['tamanho_da_empresa', 'sexo']).mean()['salario'].round(2)"
      ],
      "metadata": {
        "colab": {
          "base_uri": "https://localhost:8080/"
        },
        "id": "S8Anu2DqTZ_v",
        "outputId": "26685325-3e6b-4fec-f81d-5f173319550c"
      },
      "execution_count": null,
      "outputs": [
        {
          "output_type": "execute_result",
          "data": {
            "text/plain": [
              "tamanho_da_empresa  sexo     \n",
              "Grande              Feminino     8785.71\n",
              "                    Masculino    8578.43\n",
              "Média               Feminino     6833.33\n",
              "                    Masculino    8843.75\n",
              "Pequena             Feminino     4500.00\n",
              "                    Masculino    6750.00\n",
              "Name: salario, dtype: float64"
            ]
          },
          "metadata": {},
          "execution_count": 93
        }
      ]
    },
    {
      "cell_type": "code",
      "source": [
        "df_sexo_empresa=df_cds.groupby(['tamanho_da_empresa', 'sexo']).mean()['salario'].round(2).unstack()"
      ],
      "metadata": {
        "id": "9HKlEEkikUT_"
      },
      "execution_count": null,
      "outputs": []
    },
    {
      "cell_type": "markdown",
      "source": [
        "Abaixo, tem-se os gráficos dos dados apresentados anteriormente:"
      ],
      "metadata": {
        "id": "TW99AOPlb3NX"
      }
    },
    {
      "cell_type": "code",
      "source": [
        "df_cds.groupby(['tamanho_da_empresa', 'sexo']).mean()['salario'].round(2).unstack().plot(kind='bar')"
      ],
      "metadata": {
        "colab": {
          "base_uri": "https://localhost:8080/",
          "height": 330
        },
        "id": "3Ff9zYcQmt4p",
        "outputId": "db958cea-15bd-41a2-d616-7f1bf5142a6a"
      },
      "execution_count": null,
      "outputs": [
        {
          "output_type": "execute_result",
          "data": {
            "text/plain": [
              "<matplotlib.axes._subplots.AxesSubplot at 0x7f84af9b7490>"
            ]
          },
          "metadata": {},
          "execution_count": 95
        },
        {
          "output_type": "display_data",
          "data": {
            "text/plain": [
              "<Figure size 432x288 with 1 Axes>"
            ],
            "image/png": "[encoded data removed]"
          },
          "metadata": {
            "needs_background": "light"
          }
        }
      ]
    },
    {
      "cell_type": "markdown",
      "source": [
        "Aqui também é possível observar que há uma discrepância maior entre o total dos salários e a média desses salários."
      ],
      "metadata": {
        "id": "agrWfcwwdYAT"
      }
    },
    {
      "cell_type": "code",
      "source": [
        "df_cds.groupby(['tamanho_da_empresa', 'sexo']).count()['salario'].round(2).unstack().plot(kind='bar')"
      ],
      "metadata": {
        "colab": {
          "base_uri": "https://localhost:8080/",
          "height": 330
        },
        "id": "nMAIYUNPdt7S",
        "outputId": "2a8859d2-3d03-4c99-f1c5-35dfc527ee9e"
      },
      "execution_count": null,
      "outputs": [
        {
          "output_type": "execute_result",
          "data": {
            "text/plain": [
              "<matplotlib.axes._subplots.AxesSubplot at 0x7f84afaa5990>"
            ]
          },
          "metadata": {},
          "execution_count": 96
        },
        {
          "output_type": "display_data",
          "data": {
            "text/plain": [
              "<Figure size 432x288 with 1 Axes>"
            ],
            "image/png": "[encoded data removed]"
          },
          "metadata": {
            "needs_background": "light"
          }
        }
      ]
    },
    {
      "cell_type": "code",
      "source": [
        "df_cds.groupby(['tamanho_da_empresa', 'sexo']).count()['salario']"
      ],
      "metadata": {
        "colab": {
          "base_uri": "https://localhost:8080/"
        },
        "id": "ENNMVWENd8Nt",
        "outputId": "f9e534ac-9c1c-429b-c523-adf3bdc5a950"
      },
      "execution_count": null,
      "outputs": [
        {
          "output_type": "execute_result",
          "data": {
            "text/plain": [
              "tamanho_da_empresa  sexo     \n",
              "Grande              Feminino      7\n",
              "                    Masculino    51\n",
              "Média               Feminino     12\n",
              "                    Masculino    48\n",
              "Pequena             Feminino      5\n",
              "                    Masculino    28\n",
              "Name: salario, dtype: int64"
            ]
          },
          "metadata": {},
          "execution_count": 97
        }
      ]
    },
    {
      "cell_type": "code",
      "source": [
        "df_sexo_empresa"
      ],
      "metadata": {
        "colab": {
          "base_uri": "https://localhost:8080/",
          "height": 175
        },
        "id": "uUW0o5Use0CA",
        "outputId": "8e5cffd6-3dea-4cc7-c5f4-85275fb4c387"
      },
      "execution_count": null,
      "outputs": [
        {
          "output_type": "execute_result",
          "data": {
            "text/plain": [
              "sexo                Feminino  Masculino\n",
              "tamanho_da_empresa                     \n",
              "Grande               8785.71    8578.43\n",
              "Média                6833.33    8843.75\n",
              "Pequena              4500.00    6750.00"
            ],
            "text/html": [
              "\n",
              "  <div id=\"df-60a27ac8-e105-479b-96dd-5d8bc564fa8b\">\n",
              "    <div class=\"colab-df-container\">\n",
              "      <div>\n",
              "<style scoped>\n",
              "    .dataframe tbody tr th:only-of-type {\n",
              "        vertical-align: middle;\n",
              "    }\n",
              "\n",
              "    .dataframe tbody tr th {\n",
              "        vertical-align: top;\n",
              "    }\n",
              "\n",
              "    .dataframe thead th {\n",
              "        text-align: right;\n",
              "    }\n",
              "</style>\n",
              "<table border=\"1\" class=\"dataframe\">\n",
              "  <thead>\n",
              "    <tr style=\"text-align: right;\">\n",
              "      <th>sexo</th>\n",
              "      <th>Feminino</th>\n",
              "      <th>Masculino</th>\n",
              "    </tr>\n",
              "    <tr>\n",
              "      <th>tamanho_da_empresa</th>\n",
              "      <th></th>\n",
              "      <th></th>\n",
              "    </tr>\n",
              "  </thead>\n",
              "  <tbody>\n",
              "    <tr>\n",
              "      <th>Grande</th>\n",
              "      <td>8785.71</td>\n",
              "      <td>8578.43</td>\n",
              "    </tr>\n",
              "    <tr>\n",
              "      <th>Média</th>\n",
              "      <td>6833.33</td>\n",
              "      <td>8843.75</td>\n",
              "    </tr>\n",
              "    <tr>\n",
              "      <th>Pequena</th>\n",
              "      <td>4500.00</td>\n",
              "      <td>6750.00</td>\n",
              "    </tr>\n",
              "  </tbody>\n",
              "</table>\n",
              "</div>\n",
              "      <button class=\"colab-df-convert\" onclick=\"convertToInteractive('df-60a27ac8-e105-479b-96dd-5d8bc564fa8b')\"\n",
              "              title=\"Convert this dataframe to an interactive table.\"\n",
              "              style=\"display:none;\">\n",
              "        \n",
              "  <svg xmlns=\"http://www.w3.org/2000/svg\" height=\"24px\"viewBox=\"0 0 24 24\"\n",
              "       width=\"24px\">\n",
              "    <path d=\"M0 0h24v24H0V0z\" fill=\"none\"/>\n",
              "    <path d=\"M18.56 5.44l.94 2.06.94-2.06 2.06-.94-2.06-.94-.94-2.06-.94 2.06-2.06.94zm-11 1L8.5 8.5l.94-2.06 2.06-.94-2.06-.94L8.5 2.5l-.94 2.06-2.06.94zm10 10l.94 2.06.94-2.06 2.06-.94-2.06-.94-.94-2.06-.94 2.06-2.06.94z\"/><path d=\"M17.41 7.96l-1.37-1.37c-.4-.4-.92-.59-1.43-.59-.52 0-1.04.2-1.43.59L10.3 9.45l-7.72 7.72c-.78.78-.78 2.05 0 2.83L4 21.41c.39.39.9.59 1.41.59.51 0 1.02-.2 1.41-.59l7.78-7.78 2.81-2.81c.8-.78.8-2.07 0-2.86zM5.41 20L4 18.59l7.72-7.72 1.47 1.35L5.41 20z\"/>\n",
              "  </svg>\n",
              "      </button>\n",
              "      \n",
              "  <style>\n",
              "    .colab-df-container {\n",
              "      display:flex;\n",
              "      flex-wrap:wrap;\n",
              "      gap: 12px;\n",
              "    }\n",
              "\n",
              "    .colab-df-convert {\n",
              "      background-color: #E8F0FE;\n",
              "      border: none;\n",
              "      border-radius: 50%;\n",
              "      cursor: pointer;\n",
              "      display: none;\n",
              "      fill: #1967D2;\n",
              "      height: 32px;\n",
              "      padding: 0 0 0 0;\n",
              "      width: 32px;\n",
              "    }\n",
              "\n",
              "    .colab-df-convert:hover {\n",
              "      background-color: #E2EBFA;\n",
              "      box-shadow: 0px 1px 2px rgba(60, 64, 67, 0.3), 0px 1px 3px 1px rgba(60, 64, 67, 0.15);\n",
              "      fill: #174EA6;\n",
              "    }\n",
              "\n",
              "    [theme=dark] .colab-df-convert {\n",
              "      background-color: #3B4455;\n",
              "      fill: #D2E3FC;\n",
              "    }\n",
              "\n",
              "    [theme=dark] .colab-df-convert:hover {\n",
              "      background-color: #434B5C;\n",
              "      box-shadow: 0px 1px 3px 1px rgba(0, 0, 0, 0.15);\n",
              "      filter: drop-shadow(0px 1px 2px rgba(0, 0, 0, 0.3));\n",
              "      fill: #FFFFFF;\n",
              "    }\n",
              "  </style>\n",
              "\n",
              "      <script>\n",
              "        const buttonEl =\n",
              "          document.querySelector('#df-60a27ac8-e105-479b-96dd-5d8bc564fa8b button.colab-df-convert');\n",
              "        buttonEl.style.display =\n",
              "          google.colab.kernel.accessAllowed ? 'block' : 'none';\n",
              "\n",
              "        async function convertToInteractive(key) {\n",
              "          const element = document.querySelector('#df-60a27ac8-e105-479b-96dd-5d8bc564fa8b');\n",
              "          const dataTable =\n",
              "            await google.colab.kernel.invokeFunction('convertToInteractive',\n",
              "                                                     [key], {});\n",
              "          if (!dataTable) return;\n",
              "\n",
              "          const docLinkHtml = 'Like what you see? Visit the ' +\n",
              "            '<a target=\"_blank\" href=https://colab.research.google.com/notebooks/data_table.ipynb>data table notebook</a>'\n",
              "            + ' to learn more about interactive tables.';\n",
              "          element.innerHTML = '';\n",
              "          dataTable['output_type'] = 'display_data';\n",
              "          await google.colab.output.renderOutput(dataTable, element);\n",
              "          const docLink = document.createElement('div');\n",
              "          docLink.innerHTML = docLinkHtml;\n",
              "          element.appendChild(docLink);\n",
              "        }\n",
              "      </script>\n",
              "    </div>\n",
              "  </div>\n",
              "  "
            ]
          },
          "metadata": {},
          "execution_count": 98
        }
      ]
    },
    {
      "cell_type": "code",
      "source": [
        "df_sexo_empresa['Feminino']"
      ],
      "metadata": {
        "colab": {
          "base_uri": "https://localhost:8080/"
        },
        "id": "xB1LN14Ue4sH",
        "outputId": "37fccdb0-af86-4776-f9fb-d7735f69ed1d"
      },
      "execution_count": null,
      "outputs": [
        {
          "output_type": "execute_result",
          "data": {
            "text/plain": [
              "tamanho_da_empresa\n",
              "Grande     8785.71\n",
              "Média      6833.33\n",
              "Pequena    4500.00\n",
              "Name: Feminino, dtype: float64"
            ]
          },
          "metadata": {},
          "execution_count": 99
        }
      ]
    },
    {
      "cell_type": "markdown",
      "source": [
        "Abaixo, tem-se o cálculo da proporção entre os salários de homens e mulheres. Como já comentado, nas empresas de grande porte a média salarial de ambos os gêneros foi similar e, sendo assim, a proporção é próxima de 1. Nas empresas de médio porte esse valor cai para 0,77 e de pequeno porte, para 0,67, o que mostra que quanto menor o porte da empresa, maior a discrepância nos salários."
      ],
      "metadata": {
        "id": "ERT5xXK-emLk"
      }
    },
    {
      "cell_type": "code",
      "source": [
        "df_sexo_empresa['Proporção']=df_sexo_empresa['Feminino']/df_sexo_empresa['Masculino']"
      ],
      "metadata": {
        "id": "YP5PxkGvfA9n"
      },
      "execution_count": null,
      "outputs": []
    },
    {
      "cell_type": "code",
      "source": [
        "df_sexo_empresa"
      ],
      "metadata": {
        "colab": {
          "base_uri": "https://localhost:8080/",
          "height": 175
        },
        "id": "tHxCB9xffZKH",
        "outputId": "300a47a8-aafa-465b-eac8-d3312095b698"
      },
      "execution_count": null,
      "outputs": [
        {
          "output_type": "execute_result",
          "data": {
            "text/plain": [
              "sexo                Feminino  Masculino  Proporção\n",
              "tamanho_da_empresa                                \n",
              "Grande               8785.71    8578.43   1.024163\n",
              "Média                6833.33    8843.75   0.772673\n",
              "Pequena              4500.00    6750.00   0.666667"
            ],
            "text/html": [
              "\n",
              "  <div id=\"df-867daf87-db41-40b4-a990-671be004dfac\">\n",
              "    <div class=\"colab-df-container\">\n",
              "      <div>\n",
              "<style scoped>\n",
              "    .dataframe tbody tr th:only-of-type {\n",
              "        vertical-align: middle;\n",
              "    }\n",
              "\n",
              "    .dataframe tbody tr th {\n",
              "        vertical-align: top;\n",
              "    }\n",
              "\n",
              "    .dataframe thead th {\n",
              "        text-align: right;\n",
              "    }\n",
              "</style>\n",
              "<table border=\"1\" class=\"dataframe\">\n",
              "  <thead>\n",
              "    <tr style=\"text-align: right;\">\n",
              "      <th>sexo</th>\n",
              "      <th>Feminino</th>\n",
              "      <th>Masculino</th>\n",
              "      <th>Proporção</th>\n",
              "    </tr>\n",
              "    <tr>\n",
              "      <th>tamanho_da_empresa</th>\n",
              "      <th></th>\n",
              "      <th></th>\n",
              "      <th></th>\n",
              "    </tr>\n",
              "  </thead>\n",
              "  <tbody>\n",
              "    <tr>\n",
              "      <th>Grande</th>\n",
              "      <td>8785.71</td>\n",
              "      <td>8578.43</td>\n",
              "      <td>1.024163</td>\n",
              "    </tr>\n",
              "    <tr>\n",
              "      <th>Média</th>\n",
              "      <td>6833.33</td>\n",
              "      <td>8843.75</td>\n",
              "      <td>0.772673</td>\n",
              "    </tr>\n",
              "    <tr>\n",
              "      <th>Pequena</th>\n",
              "      <td>4500.00</td>\n",
              "      <td>6750.00</td>\n",
              "      <td>0.666667</td>\n",
              "    </tr>\n",
              "  </tbody>\n",
              "</table>\n",
              "</div>\n",
              "      <button class=\"colab-df-convert\" onclick=\"convertToInteractive('df-867daf87-db41-40b4-a990-671be004dfac')\"\n",
              "              title=\"Convert this dataframe to an interactive table.\"\n",
              "              style=\"display:none;\">\n",
              "        \n",
              "  <svg xmlns=\"http://www.w3.org/2000/svg\" height=\"24px\"viewBox=\"0 0 24 24\"\n",
              "       width=\"24px\">\n",
              "    <path d=\"M0 0h24v24H0V0z\" fill=\"none\"/>\n",
              "    <path d=\"M18.56 5.44l.94 2.06.94-2.06 2.06-.94-2.06-.94-.94-2.06-.94 2.06-2.06.94zm-11 1L8.5 8.5l.94-2.06 2.06-.94-2.06-.94L8.5 2.5l-.94 2.06-2.06.94zm10 10l.94 2.06.94-2.06 2.06-.94-2.06-.94-.94-2.06-.94 2.06-2.06.94z\"/><path d=\"M17.41 7.96l-1.37-1.37c-.4-.4-.92-.59-1.43-.59-.52 0-1.04.2-1.43.59L10.3 9.45l-7.72 7.72c-.78.78-.78 2.05 0 2.83L4 21.41c.39.39.9.59 1.41.59.51 0 1.02-.2 1.41-.59l7.78-7.78 2.81-2.81c.8-.78.8-2.07 0-2.86zM5.41 20L4 18.59l7.72-7.72 1.47 1.35L5.41 20z\"/>\n",
              "  </svg>\n",
              "      </button>\n",
              "      \n",
              "  <style>\n",
              "    .colab-df-container {\n",
              "      display:flex;\n",
              "      flex-wrap:wrap;\n",
              "      gap: 12px;\n",
              "    }\n",
              "\n",
              "    .colab-df-convert {\n",
              "      background-color: #E8F0FE;\n",
              "      border: none;\n",
              "      border-radius: 50%;\n",
              "      cursor: pointer;\n",
              "      display: none;\n",
              "      fill: #1967D2;\n",
              "      height: 32px;\n",
              "      padding: 0 0 0 0;\n",
              "      width: 32px;\n",
              "    }\n",
              "\n",
              "    .colab-df-convert:hover {\n",
              "      background-color: #E2EBFA;\n",
              "      box-shadow: 0px 1px 2px rgba(60, 64, 67, 0.3), 0px 1px 3px 1px rgba(60, 64, 67, 0.15);\n",
              "      fill: #174EA6;\n",
              "    }\n",
              "\n",
              "    [theme=dark] .colab-df-convert {\n",
              "      background-color: #3B4455;\n",
              "      fill: #D2E3FC;\n",
              "    }\n",
              "\n",
              "    [theme=dark] .colab-df-convert:hover {\n",
              "      background-color: #434B5C;\n",
              "      box-shadow: 0px 1px 3px 1px rgba(0, 0, 0, 0.15);\n",
              "      filter: drop-shadow(0px 1px 2px rgba(0, 0, 0, 0.3));\n",
              "      fill: #FFFFFF;\n",
              "    }\n",
              "  </style>\n",
              "\n",
              "      <script>\n",
              "        const buttonEl =\n",
              "          document.querySelector('#df-867daf87-db41-40b4-a990-671be004dfac button.colab-df-convert');\n",
              "        buttonEl.style.display =\n",
              "          google.colab.kernel.accessAllowed ? 'block' : 'none';\n",
              "\n",
              "        async function convertToInteractive(key) {\n",
              "          const element = document.querySelector('#df-867daf87-db41-40b4-a990-671be004dfac');\n",
              "          const dataTable =\n",
              "            await google.colab.kernel.invokeFunction('convertToInteractive',\n",
              "                                                     [key], {});\n",
              "          if (!dataTable) return;\n",
              "\n",
              "          const docLinkHtml = 'Like what you see? Visit the ' +\n",
              "            '<a target=\"_blank\" href=https://colab.research.google.com/notebooks/data_table.ipynb>data table notebook</a>'\n",
              "            + ' to learn more about interactive tables.';\n",
              "          element.innerHTML = '';\n",
              "          dataTable['output_type'] = 'display_data';\n",
              "          await google.colab.output.renderOutput(dataTable, element);\n",
              "          const docLink = document.createElement('div');\n",
              "          docLink.innerHTML = docLinkHtml;\n",
              "          element.appendChild(docLink);\n",
              "        }\n",
              "      </script>\n",
              "    </div>\n",
              "  </div>\n",
              "  "
            ]
          },
          "metadata": {},
          "execution_count": 101
        }
      ]
    },
    {
      "cell_type": "markdown",
      "source": [],
      "metadata": {
        "id": "AK4zDADpfL9A"
      }
    },
    {
      "cell_type": "markdown",
      "source": [
        "Na tabela a seguir, tem-se o salário relacionado com o grau de escolaridade de cada indivíduo. Quanto mais anos de estudo, maior o salário, ou seja, um Phd tem o mais elevado salário e o graduando o valor mais baixo. Há ainda quem não tenha graduação formal, ou seja, não tem faculdade, e seu salário é superior a quem possui mestrado. Isso pode estar relacionado à experiência do profissional, uma vez que como já foi visualizado, o tempo de experiência no mercado é fator crucial para ter um salário maior."
      ],
      "metadata": {
        "id": "RyWjpq7_fOkw"
      }
    },
    {
      "cell_type": "code",
      "source": [
        "df_cds.groupby(['escolaridade']).mean()['salario'].round(2)"
      ],
      "metadata": {
        "colab": {
          "base_uri": "https://localhost:8080/"
        },
        "id": "oyyACytRgFhF",
        "outputId": "3dec27a8-e64b-4796-d1af-444d24b02132"
      },
      "execution_count": null,
      "outputs": [
        {
          "output_type": "execute_result",
          "data": {
            "text/plain": [
              "escolaridade\n",
              "Doutorado ou Phd              13500.00\n",
              "Estudante de Graduação         6291.67\n",
              "Graduação/Bacharelado          6096.15\n",
              "Mestrado                       8071.43\n",
              "Não tenho graduação formal     8750.00\n",
              "Pós-graduação                  9162.16\n",
              "Name: salario, dtype: float64"
            ]
          },
          "metadata": {},
          "execution_count": 102
        }
      ]
    },
    {
      "cell_type": "markdown",
      "source": [
        "Nesta tabela, tem-se a quantidade de pessoas com diferentes graus de instrução e as medidas estatísticas de média, desvio padrão, valor mínimo e máximo, 1°, 2° e 3° quartis. \n",
        "Nota-se que a grande maioria possui apenas graduação e apenas 4 pessoas não possuem estudo formal. Isso leva a crer que, apesar de apenas o fator estudo não influir no salário, mas também a experiência, é perceptível que é importante o profissional ter um curso superior para atuar no mercado, qualquer que seja sua formação. "
      ],
      "metadata": {
        "id": "XMBHpNjJgiNL"
      }
    },
    {
      "cell_type": "code",
      "source": [
        "df_cds.groupby(['escolaridade']).describe()['salario'].round(2)"
      ],
      "metadata": {
        "colab": {
          "base_uri": "https://localhost:8080/",
          "height": 269
        },
        "id": "DoYUH8gzgoQL",
        "outputId": "3f2a0dce-88ff-481b-8fdd-d3b36fa3bbbc"
      },
      "execution_count": null,
      "outputs": [
        {
          "output_type": "execute_result",
          "data": {
            "text/plain": [
              "                            count      mean      std     min      25%  \\\n",
              "escolaridade                                                            \n",
              "Doutorado ou Phd             11.0  13500.00  7221.50  5000.0  10000.0   \n",
              "Estudante de Graduação       12.0   6291.67  5466.67  3500.0   3500.0   \n",
              "Graduação/Bacharelado        52.0   6096.15  2948.98  3500.0   5000.0   \n",
              "Mestrado                     42.0   8071.43  3275.13  3500.0   5000.0   \n",
              "Não tenho graduação formal    4.0   8750.00  6238.32  5000.0   5000.0   \n",
              "Pós-graduação                37.0   9162.16  4573.56  3500.0   5000.0   \n",
              "\n",
              "                                50%      75%      max  \n",
              "escolaridade                                           \n",
              "Doutorado ou Phd            10000.0  18250.0  25000.0  \n",
              "Estudante de Graduação       4250.0   5500.0  22500.0  \n",
              "Graduação/Bacharelado        5000.0   7000.0  18000.0  \n",
              "Mestrado                     7000.0  10000.0  18000.0  \n",
              "Não tenho graduação formal   6000.0   9750.0  18000.0  \n",
              "Pós-graduação                7000.0  10000.0  22500.0  "
            ],
            "text/html": [
              "\n",
              "  <div id=\"df-8bb68343-947f-4d70-a5ec-2aad05bb86d3\">\n",
              "    <div class=\"colab-df-container\">\n",
              "      <div>\n",
              "<style scoped>\n",
              "    .dataframe tbody tr th:only-of-type {\n",
              "        vertical-align: middle;\n",
              "    }\n",
              "\n",
              "    .dataframe tbody tr th {\n",
              "        vertical-align: top;\n",
              "    }\n",
              "\n",
              "    .dataframe thead th {\n",
              "        text-align: right;\n",
              "    }\n",
              "</style>\n",
              "<table border=\"1\" class=\"dataframe\">\n",
              "  <thead>\n",
              "    <tr style=\"text-align: right;\">\n",
              "      <th></th>\n",
              "      <th>count</th>\n",
              "      <th>mean</th>\n",
              "      <th>std</th>\n",
              "      <th>min</th>\n",
              "      <th>25%</th>\n",
              "      <th>50%</th>\n",
              "      <th>75%</th>\n",
              "      <th>max</th>\n",
              "    </tr>\n",
              "    <tr>\n",
              "      <th>escolaridade</th>\n",
              "      <th></th>\n",
              "      <th></th>\n",
              "      <th></th>\n",
              "      <th></th>\n",
              "      <th></th>\n",
              "      <th></th>\n",
              "      <th></th>\n",
              "      <th></th>\n",
              "    </tr>\n",
              "  </thead>\n",
              "  <tbody>\n",
              "    <tr>\n",
              "      <th>Doutorado ou Phd</th>\n",
              "      <td>11.0</td>\n",
              "      <td>13500.00</td>\n",
              "      <td>7221.50</td>\n",
              "      <td>5000.0</td>\n",
              "      <td>10000.0</td>\n",
              "      <td>10000.0</td>\n",
              "      <td>18250.0</td>\n",
              "      <td>25000.0</td>\n",
              "    </tr>\n",
              "    <tr>\n",
              "      <th>Estudante de Graduação</th>\n",
              "      <td>12.0</td>\n",
              "      <td>6291.67</td>\n",
              "      <td>5466.67</td>\n",
              "      <td>3500.0</td>\n",
              "      <td>3500.0</td>\n",
              "      <td>4250.0</td>\n",
              "      <td>5500.0</td>\n",
              "      <td>22500.0</td>\n",
              "    </tr>\n",
              "    <tr>\n",
              "      <th>Graduação/Bacharelado</th>\n",
              "      <td>52.0</td>\n",
              "      <td>6096.15</td>\n",
              "      <td>2948.98</td>\n",
              "      <td>3500.0</td>\n",
              "      <td>5000.0</td>\n",
              "      <td>5000.0</td>\n",
              "      <td>7000.0</td>\n",
              "      <td>18000.0</td>\n",
              "    </tr>\n",
              "    <tr>\n",
              "      <th>Mestrado</th>\n",
              "      <td>42.0</td>\n",
              "      <td>8071.43</td>\n",
              "      <td>3275.13</td>\n",
              "      <td>3500.0</td>\n",
              "      <td>5000.0</td>\n",
              "      <td>7000.0</td>\n",
              "      <td>10000.0</td>\n",
              "      <td>18000.0</td>\n",
              "    </tr>\n",
              "    <tr>\n",
              "      <th>Não tenho graduação formal</th>\n",
              "      <td>4.0</td>\n",
              "      <td>8750.00</td>\n",
              "      <td>6238.32</td>\n",
              "      <td>5000.0</td>\n",
              "      <td>5000.0</td>\n",
              "      <td>6000.0</td>\n",
              "      <td>9750.0</td>\n",
              "      <td>18000.0</td>\n",
              "    </tr>\n",
              "    <tr>\n",
              "      <th>Pós-graduação</th>\n",
              "      <td>37.0</td>\n",
              "      <td>9162.16</td>\n",
              "      <td>4573.56</td>\n",
              "      <td>3500.0</td>\n",
              "      <td>5000.0</td>\n",
              "      <td>7000.0</td>\n",
              "      <td>10000.0</td>\n",
              "      <td>22500.0</td>\n",
              "    </tr>\n",
              "  </tbody>\n",
              "</table>\n",
              "</div>\n",
              "      <button class=\"colab-df-convert\" onclick=\"convertToInteractive('df-8bb68343-947f-4d70-a5ec-2aad05bb86d3')\"\n",
              "              title=\"Convert this dataframe to an interactive table.\"\n",
              "              style=\"display:none;\">\n",
              "        \n",
              "  <svg xmlns=\"http://www.w3.org/2000/svg\" height=\"24px\"viewBox=\"0 0 24 24\"\n",
              "       width=\"24px\">\n",
              "    <path d=\"M0 0h24v24H0V0z\" fill=\"none\"/>\n",
              "    <path d=\"M18.56 5.44l.94 2.06.94-2.06 2.06-.94-2.06-.94-.94-2.06-.94 2.06-2.06.94zm-11 1L8.5 8.5l.94-2.06 2.06-.94-2.06-.94L8.5 2.5l-.94 2.06-2.06.94zm10 10l.94 2.06.94-2.06 2.06-.94-2.06-.94-.94-2.06-.94 2.06-2.06.94z\"/><path d=\"M17.41 7.96l-1.37-1.37c-.4-.4-.92-.59-1.43-.59-.52 0-1.04.2-1.43.59L10.3 9.45l-7.72 7.72c-.78.78-.78 2.05 0 2.83L4 21.41c.39.39.9.59 1.41.59.51 0 1.02-.2 1.41-.59l7.78-7.78 2.81-2.81c.8-.78.8-2.07 0-2.86zM5.41 20L4 18.59l7.72-7.72 1.47 1.35L5.41 20z\"/>\n",
              "  </svg>\n",
              "      </button>\n",
              "      \n",
              "  <style>\n",
              "    .colab-df-container {\n",
              "      display:flex;\n",
              "      flex-wrap:wrap;\n",
              "      gap: 12px;\n",
              "    }\n",
              "\n",
              "    .colab-df-convert {\n",
              "      background-color: #E8F0FE;\n",
              "      border: none;\n",
              "      border-radius: 50%;\n",
              "      cursor: pointer;\n",
              "      display: none;\n",
              "      fill: #1967D2;\n",
              "      height: 32px;\n",
              "      padding: 0 0 0 0;\n",
              "      width: 32px;\n",
              "    }\n",
              "\n",
              "    .colab-df-convert:hover {\n",
              "      background-color: #E2EBFA;\n",
              "      box-shadow: 0px 1px 2px rgba(60, 64, 67, 0.3), 0px 1px 3px 1px rgba(60, 64, 67, 0.15);\n",
              "      fill: #174EA6;\n",
              "    }\n",
              "\n",
              "    [theme=dark] .colab-df-convert {\n",
              "      background-color: #3B4455;\n",
              "      fill: #D2E3FC;\n",
              "    }\n",
              "\n",
              "    [theme=dark] .colab-df-convert:hover {\n",
              "      background-color: #434B5C;\n",
              "      box-shadow: 0px 1px 3px 1px rgba(0, 0, 0, 0.15);\n",
              "      filter: drop-shadow(0px 1px 2px rgba(0, 0, 0, 0.3));\n",
              "      fill: #FFFFFF;\n",
              "    }\n",
              "  </style>\n",
              "\n",
              "      <script>\n",
              "        const buttonEl =\n",
              "          document.querySelector('#df-8bb68343-947f-4d70-a5ec-2aad05bb86d3 button.colab-df-convert');\n",
              "        buttonEl.style.display =\n",
              "          google.colab.kernel.accessAllowed ? 'block' : 'none';\n",
              "\n",
              "        async function convertToInteractive(key) {\n",
              "          const element = document.querySelector('#df-8bb68343-947f-4d70-a5ec-2aad05bb86d3');\n",
              "          const dataTable =\n",
              "            await google.colab.kernel.invokeFunction('convertToInteractive',\n",
              "                                                     [key], {});\n",
              "          if (!dataTable) return;\n",
              "\n",
              "          const docLinkHtml = 'Like what you see? Visit the ' +\n",
              "            '<a target=\"_blank\" href=https://colab.research.google.com/notebooks/data_table.ipynb>data table notebook</a>'\n",
              "            + ' to learn more about interactive tables.';\n",
              "          element.innerHTML = '';\n",
              "          dataTable['output_type'] = 'display_data';\n",
              "          await google.colab.output.renderOutput(dataTable, element);\n",
              "          const docLink = document.createElement('div');\n",
              "          docLink.innerHTML = docLinkHtml;\n",
              "          element.appendChild(docLink);\n",
              "        }\n",
              "      </script>\n",
              "    </div>\n",
              "  </div>\n",
              "  "
            ]
          },
          "metadata": {},
          "execution_count": 103
        }
      ]
    },
    {
      "cell_type": "code",
      "source": [
        "df_cds[df_cds['escolaridade']=='Não tenho gradução formal']['salario']"
      ],
      "metadata": {
        "colab": {
          "base_uri": "https://localhost:8080/"
        },
        "id": "YgH6nEHGhAAL",
        "outputId": "d45a8f4a-64e1-4d0c-bcbf-01da5e31e5eb"
      },
      "execution_count": null,
      "outputs": [
        {
          "output_type": "execute_result",
          "data": {
            "text/plain": [
              "Series([], Name: salario, dtype: float64)"
            ]
          },
          "metadata": {},
          "execution_count": 104
        }
      ]
    },
    {
      "cell_type": "markdown",
      "source": [
        "98% dos Cientistas de dados utilizam o Python em suas análises. Já quando se fala de todas as categorias dos profissionais de dados, apenas 44 % utiliza esta linguagem de programação."
      ],
      "metadata": {
        "id": "0BRA8qVziJPN"
      }
    },
    {
      "cell_type": "code",
      "source": [
        "df_cds[\"('P21', 'python')\"].mean()"
      ],
      "metadata": {
        "colab": {
          "base_uri": "https://localhost:8080/"
        },
        "id": "K1jomCHsiJZj",
        "outputId": "3b0fe86a-ad08-4e82-ff43-987930d7d908"
      },
      "execution_count": null,
      "outputs": [
        {
          "output_type": "execute_result",
          "data": {
            "text/plain": [
              "0.8963730569948186"
            ]
          },
          "metadata": {},
          "execution_count": 105
        }
      ]
    },
    {
      "cell_type": "code",
      "source": [
        "df[\"('P21', 'python')\"].mean()"
      ],
      "metadata": {
        "colab": {
          "base_uri": "https://localhost:8080/"
        },
        "id": "XSSx79Vnim9H",
        "outputId": "0cd83840-1c8c-4cb4-fd41-0d2abac22774"
      },
      "execution_count": null,
      "outputs": [
        {
          "output_type": "execute_result",
          "data": {
            "text/plain": [
              "0.4441926345609065"
            ]
          },
          "metadata": {},
          "execution_count": 106
        }
      ]
    },
    {
      "cell_type": "markdown",
      "source": [
        "Abaixo é possível observar as diferentes linguagens de programação utilizadas pelos profissionais de dados."
      ],
      "metadata": {
        "id": "tmSXM4llinio"
      }
    },
    {
      "cell_type": "code",
      "source": [
        "df_cds.filter(regex='P21')"
      ],
      "metadata": {
        "colab": {
          "base_uri": "https://localhost:8080/",
          "height": 505
        },
        "id": "J4WRfcLOjhaS",
        "outputId": "e921ac72-0647-49b8-857c-f1db65f21845"
      },
      "execution_count": null,
      "outputs": [
        {
          "output_type": "execute_result",
          "data": {
            "text/plain": [
              "      ('P21', 'sql_')  ('P21', 'r')  ('P21', 'python')  ('P21', 'c_c++_c#')  \\\n",
              "9                   0             1                  1                    0   \n",
              "14                  0             0                  1                    0   \n",
              "20                  1             0                  1                    0   \n",
              "36                  1             1                  1                    0   \n",
              "45                  1             1                  1                    0   \n",
              "...               ...           ...                ...                  ...   \n",
              "1716                1             1                  1                    0   \n",
              "1737                1             0                  1                    0   \n",
              "1744                1             1                  0                    0   \n",
              "1754                1             1                  1                    0   \n",
              "1764                0             0                  0                    0   \n",
              "\n",
              "      ('P21', 'dotnet')  ('P21', 'java')  ('P21', 'julia')  \\\n",
              "9                     0                0                 0   \n",
              "14                    0                0                 0   \n",
              "20                    0                0                 0   \n",
              "36                    0                0                 0   \n",
              "45                    0                0                 0   \n",
              "...                 ...              ...               ...   \n",
              "1716                  0                0                 0   \n",
              "1737                  0                0                 0   \n",
              "1744                  0                0                 0   \n",
              "1754                  0                0                 0   \n",
              "1764                  0                0                 0   \n",
              "\n",
              "      ('P21', 'sas_stata')  ('P21', 'visual_basic_vba')  ('P21', 'scala')  \\\n",
              "9                        0                            0                 0   \n",
              "14                       0                            0                 0   \n",
              "20                       0                            0                 0   \n",
              "36                       1                            0                 0   \n",
              "45                       0                            0                 0   \n",
              "...                    ...                          ...               ...   \n",
              "1716                     0                            0                 0   \n",
              "1737                     0                            0                 1   \n",
              "1744                     0                            0                 0   \n",
              "1754                     0                            0                 0   \n",
              "1764                     0                            0                 0   \n",
              "\n",
              "      ('P21', 'matlab')  ('P21', 'php')  ('P21', 'no_listed_languages')  \n",
              "9                     0               0                               0  \n",
              "14                    0               0                               0  \n",
              "20                    0               0                               0  \n",
              "36                    0               0                               0  \n",
              "45                    0               0                               0  \n",
              "...                 ...             ...                             ...  \n",
              "1716                  0               0                               0  \n",
              "1737                  0               0                               0  \n",
              "1744                  0               0                               0  \n",
              "1754                  0               0                               0  \n",
              "1764                  0               0                               0  \n",
              "\n",
              "[193 rows x 13 columns]"
            ],
            "text/html": [
              "\n",
              "  <div id=\"df-0decf6cf-d2ed-4c14-8b2c-84883cc8e533\">\n",
              "    <div class=\"colab-df-container\">\n",
              "      <div>\n",
              "<style scoped>\n",
              "    .dataframe tbody tr th:only-of-type {\n",
              "        vertical-align: middle;\n",
              "    }\n",
              "\n",
              "    .dataframe tbody tr th {\n",
              "        vertical-align: top;\n",
              "    }\n",
              "\n",
              "    .dataframe thead th {\n",
              "        text-align: right;\n",
              "    }\n",
              "</style>\n",
              "<table border=\"1\" class=\"dataframe\">\n",
              "  <thead>\n",
              "    <tr style=\"text-align: right;\">\n",
              "      <th></th>\n",
              "      <th>('P21', 'sql_')</th>\n",
              "      <th>('P21', 'r')</th>\n",
              "      <th>('P21', 'python')</th>\n",
              "      <th>('P21', 'c_c++_c#')</th>\n",
              "      <th>('P21', 'dotnet')</th>\n",
              "      <th>('P21', 'java')</th>\n",
              "      <th>('P21', 'julia')</th>\n",
              "      <th>('P21', 'sas_stata')</th>\n",
              "      <th>('P21', 'visual_basic_vba')</th>\n",
              "      <th>('P21', 'scala')</th>\n",
              "      <th>('P21', 'matlab')</th>\n",
              "      <th>('P21', 'php')</th>\n",
              "      <th>('P21', 'no_listed_languages')</th>\n",
              "    </tr>\n",
              "  </thead>\n",
              "  <tbody>\n",
              "    <tr>\n",
              "      <th>9</th>\n",
              "      <td>0</td>\n",
              "      <td>1</td>\n",
              "      <td>1</td>\n",
              "      <td>0</td>\n",
              "      <td>0</td>\n",
              "      <td>0</td>\n",
              "      <td>0</td>\n",
              "      <td>0</td>\n",
              "      <td>0</td>\n",
              "      <td>0</td>\n",
              "      <td>0</td>\n",
              "      <td>0</td>\n",
              "      <td>0</td>\n",
              "    </tr>\n",
              "    <tr>\n",
              "      <th>14</th>\n",
              "      <td>0</td>\n",
              "      <td>0</td>\n",
              "      <td>1</td>\n",
              "      <td>0</td>\n",
              "      <td>0</td>\n",
              "      <td>0</td>\n",
              "      <td>0</td>\n",
              "      <td>0</td>\n",
              "      <td>0</td>\n",
              "      <td>0</td>\n",
              "      <td>0</td>\n",
              "      <td>0</td>\n",
              "      <td>0</td>\n",
              "    </tr>\n",
              "    <tr>\n",
              "      <th>20</th>\n",
              "      <td>1</td>\n",
              "      <td>0</td>\n",
              "      <td>1</td>\n",
              "      <td>0</td>\n",
              "      <td>0</td>\n",
              "      <td>0</td>\n",
              "      <td>0</td>\n",
              "      <td>0</td>\n",
              "      <td>0</td>\n",
              "      <td>0</td>\n",
              "      <td>0</td>\n",
              "      <td>0</td>\n",
              "      <td>0</td>\n",
              "    </tr>\n",
              "    <tr>\n",
              "      <th>36</th>\n",
              "      <td>1</td>\n",
              "      <td>1</td>\n",
              "      <td>1</td>\n",
              "      <td>0</td>\n",
              "      <td>0</td>\n",
              "      <td>0</td>\n",
              "      <td>0</td>\n",
              "      <td>1</td>\n",
              "      <td>0</td>\n",
              "      <td>0</td>\n",
              "      <td>0</td>\n",
              "      <td>0</td>\n",
              "      <td>0</td>\n",
              "    </tr>\n",
              "    <tr>\n",
              "      <th>45</th>\n",
              "      <td>1</td>\n",
              "      <td>1</td>\n",
              "      <td>1</td>\n",
              "      <td>0</td>\n",
              "      <td>0</td>\n",
              "      <td>0</td>\n",
              "      <td>0</td>\n",
              "      <td>0</td>\n",
              "      <td>0</td>\n",
              "      <td>0</td>\n",
              "      <td>0</td>\n",
              "      <td>0</td>\n",
              "      <td>0</td>\n",
              "    </tr>\n",
              "    <tr>\n",
              "      <th>...</th>\n",
              "      <td>...</td>\n",
              "      <td>...</td>\n",
              "      <td>...</td>\n",
              "      <td>...</td>\n",
              "      <td>...</td>\n",
              "      <td>...</td>\n",
              "      <td>...</td>\n",
              "      <td>...</td>\n",
              "      <td>...</td>\n",
              "      <td>...</td>\n",
              "      <td>...</td>\n",
              "      <td>...</td>\n",
              "      <td>...</td>\n",
              "    </tr>\n",
              "    <tr>\n",
              "      <th>1716</th>\n",
              "      <td>1</td>\n",
              "      <td>1</td>\n",
              "      <td>1</td>\n",
              "      <td>0</td>\n",
              "      <td>0</td>\n",
              "      <td>0</td>\n",
              "      <td>0</td>\n",
              "      <td>0</td>\n",
              "      <td>0</td>\n",
              "      <td>0</td>\n",
              "      <td>0</td>\n",
              "      <td>0</td>\n",
              "      <td>0</td>\n",
              "    </tr>\n",
              "    <tr>\n",
              "      <th>1737</th>\n",
              "      <td>1</td>\n",
              "      <td>0</td>\n",
              "      <td>1</td>\n",
              "      <td>0</td>\n",
              "      <td>0</td>\n",
              "      <td>0</td>\n",
              "      <td>0</td>\n",
              "      <td>0</td>\n",
              "      <td>0</td>\n",
              "      <td>1</td>\n",
              "      <td>0</td>\n",
              "      <td>0</td>\n",
              "      <td>0</td>\n",
              "    </tr>\n",
              "    <tr>\n",
              "      <th>1744</th>\n",
              "      <td>1</td>\n",
              "      <td>1</td>\n",
              "      <td>0</td>\n",
              "      <td>0</td>\n",
              "      <td>0</td>\n",
              "      <td>0</td>\n",
              "      <td>0</td>\n",
              "      <td>0</td>\n",
              "      <td>0</td>\n",
              "      <td>0</td>\n",
              "      <td>0</td>\n",
              "      <td>0</td>\n",
              "      <td>0</td>\n",
              "    </tr>\n",
              "    <tr>\n",
              "      <th>1754</th>\n",
              "      <td>1</td>\n",
              "      <td>1</td>\n",
              "      <td>1</td>\n",
              "      <td>0</td>\n",
              "      <td>0</td>\n",
              "      <td>0</td>\n",
              "      <td>0</td>\n",
              "      <td>0</td>\n",
              "      <td>0</td>\n",
              "      <td>0</td>\n",
              "      <td>0</td>\n",
              "      <td>0</td>\n",
              "      <td>0</td>\n",
              "    </tr>\n",
              "    <tr>\n",
              "      <th>1764</th>\n",
              "      <td>0</td>\n",
              "      <td>0</td>\n",
              "      <td>0</td>\n",
              "      <td>0</td>\n",
              "      <td>0</td>\n",
              "      <td>0</td>\n",
              "      <td>0</td>\n",
              "      <td>0</td>\n",
              "      <td>0</td>\n",
              "      <td>0</td>\n",
              "      <td>0</td>\n",
              "      <td>0</td>\n",
              "      <td>0</td>\n",
              "    </tr>\n",
              "  </tbody>\n",
              "</table>\n",
              "<p>193 rows × 13 columns</p>\n",
              "</div>\n",
              "      <button class=\"colab-df-convert\" onclick=\"convertToInteractive('df-0decf6cf-d2ed-4c14-8b2c-84883cc8e533')\"\n",
              "              title=\"Convert this dataframe to an interactive table.\"\n",
              "              style=\"display:none;\">\n",
              "        \n",
              "  <svg xmlns=\"http://www.w3.org/2000/svg\" height=\"24px\"viewBox=\"0 0 24 24\"\n",
              "       width=\"24px\">\n",
              "    <path d=\"M0 0h24v24H0V0z\" fill=\"none\"/>\n",
              "    <path d=\"M18.56 5.44l.94 2.06.94-2.06 2.06-.94-2.06-.94-.94-2.06-.94 2.06-2.06.94zm-11 1L8.5 8.5l.94-2.06 2.06-.94-2.06-.94L8.5 2.5l-.94 2.06-2.06.94zm10 10l.94 2.06.94-2.06 2.06-.94-2.06-.94-.94-2.06-.94 2.06-2.06.94z\"/><path d=\"M17.41 7.96l-1.37-1.37c-.4-.4-.92-.59-1.43-.59-.52 0-1.04.2-1.43.59L10.3 9.45l-7.72 7.72c-.78.78-.78 2.05 0 2.83L4 21.41c.39.39.9.59 1.41.59.51 0 1.02-.2 1.41-.59l7.78-7.78 2.81-2.81c.8-.78.8-2.07 0-2.86zM5.41 20L4 18.59l7.72-7.72 1.47 1.35L5.41 20z\"/>\n",
              "  </svg>\n",
              "      </button>\n",
              "      \n",
              "  <style>\n",
              "    .colab-df-container {\n",
              "      display:flex;\n",
              "      flex-wrap:wrap;\n",
              "      gap: 12px;\n",
              "    }\n",
              "\n",
              "    .colab-df-convert {\n",
              "      background-color: #E8F0FE;\n",
              "      border: none;\n",
              "      border-radius: 50%;\n",
              "      cursor: pointer;\n",
              "      display: none;\n",
              "      fill: #1967D2;\n",
              "      height: 32px;\n",
              "      padding: 0 0 0 0;\n",
              "      width: 32px;\n",
              "    }\n",
              "\n",
              "    .colab-df-convert:hover {\n",
              "      background-color: #E2EBFA;\n",
              "      box-shadow: 0px 1px 2px rgba(60, 64, 67, 0.3), 0px 1px 3px 1px rgba(60, 64, 67, 0.15);\n",
              "      fill: #174EA6;\n",
              "    }\n",
              "\n",
              "    [theme=dark] .colab-df-convert {\n",
              "      background-color: #3B4455;\n",
              "      fill: #D2E3FC;\n",
              "    }\n",
              "\n",
              "    [theme=dark] .colab-df-convert:hover {\n",
              "      background-color: #434B5C;\n",
              "      box-shadow: 0px 1px 3px 1px rgba(0, 0, 0, 0.15);\n",
              "      filter: drop-shadow(0px 1px 2px rgba(0, 0, 0, 0.3));\n",
              "      fill: #FFFFFF;\n",
              "    }\n",
              "  </style>\n",
              "\n",
              "      <script>\n",
              "        const buttonEl =\n",
              "          document.querySelector('#df-0decf6cf-d2ed-4c14-8b2c-84883cc8e533 button.colab-df-convert');\n",
              "        buttonEl.style.display =\n",
              "          google.colab.kernel.accessAllowed ? 'block' : 'none';\n",
              "\n",
              "        async function convertToInteractive(key) {\n",
              "          const element = document.querySelector('#df-0decf6cf-d2ed-4c14-8b2c-84883cc8e533');\n",
              "          const dataTable =\n",
              "            await google.colab.kernel.invokeFunction('convertToInteractive',\n",
              "                                                     [key], {});\n",
              "          if (!dataTable) return;\n",
              "\n",
              "          const docLinkHtml = 'Like what you see? Visit the ' +\n",
              "            '<a target=\"_blank\" href=https://colab.research.google.com/notebooks/data_table.ipynb>data table notebook</a>'\n",
              "            + ' to learn more about interactive tables.';\n",
              "          element.innerHTML = '';\n",
              "          dataTable['output_type'] = 'display_data';\n",
              "          await google.colab.output.renderOutput(dataTable, element);\n",
              "          const docLink = document.createElement('div');\n",
              "          docLink.innerHTML = docLinkHtml;\n",
              "          element.appendChild(docLink);\n",
              "        }\n",
              "      </script>\n",
              "    </div>\n",
              "  </div>\n",
              "  "
            ]
          },
          "metadata": {},
          "execution_count": 107
        }
      ]
    },
    {
      "cell_type": "markdown",
      "source": [],
      "metadata": {
        "id": "BR-nuTR6iv6C"
      }
    },
    {
      "cell_type": "code",
      "source": [
        "df_cds.filter(regex='P21').mean().sort_values()"
      ],
      "metadata": {
        "colab": {
          "base_uri": "https://localhost:8080/"
        },
        "id": "bOXTaT0Ljte-",
        "outputId": "eb575d48-b1bd-4b88-d760-0595d8439bdc"
      },
      "execution_count": null,
      "outputs": [
        {
          "output_type": "execute_result",
          "data": {
            "text/plain": [
              "('P21', 'no_listed_languages')    0.000000\n",
              "('P21', 'php')                    0.005181\n",
              "('P21', 'dotnet')                 0.010363\n",
              "('P21', 'julia')                  0.010363\n",
              "('P21', 'matlab')                 0.025907\n",
              "('P21', 'c_c++_c#')               0.031088\n",
              "('P21', 'java')                   0.041451\n",
              "('P21', 'visual_basic_vba')       0.051813\n",
              "('P21', 'scala')                  0.082902\n",
              "('P21', 'sas_stata')              0.088083\n",
              "('P21', 'r')                      0.383420\n",
              "('P21', 'sql_')                   0.730570\n",
              "('P21', 'python')                 0.896373\n",
              "dtype: float64"
            ]
          },
          "metadata": {},
          "execution_count": 108
        }
      ]
    },
    {
      "cell_type": "markdown",
      "source": [
        "A linguagem mais utilizada pelos cientistas de dados é Python, seguida de SQL e R. A linguagem Julia, embora já esteja no mercado, ainda é pouco utilizada. "
      ],
      "metadata": {
        "id": "D5ABSa1YiySt"
      }
    },
    {
      "cell_type": "code",
      "source": [
        "df_cds.filter(regex='P21').mean().sort_values(ascending=False)"
      ],
      "metadata": {
        "colab": {
          "base_uri": "https://localhost:8080/"
        },
        "id": "K5_pekOjj_Hk",
        "outputId": "4059cb2d-bd55-4332-f9d6-196b39a88979"
      },
      "execution_count": null,
      "outputs": [
        {
          "output_type": "execute_result",
          "data": {
            "text/plain": [
              "('P21', 'python')                 0.896373\n",
              "('P21', 'sql_')                   0.730570\n",
              "('P21', 'r')                      0.383420\n",
              "('P21', 'sas_stata')              0.088083\n",
              "('P21', 'scala')                  0.082902\n",
              "('P21', 'visual_basic_vba')       0.051813\n",
              "('P21', 'java')                   0.041451\n",
              "('P21', 'c_c++_c#')               0.031088\n",
              "('P21', 'matlab')                 0.025907\n",
              "('P21', 'dotnet')                 0.010363\n",
              "('P21', 'julia')                  0.010363\n",
              "('P21', 'php')                    0.005181\n",
              "('P21', 'no_listed_languages')    0.000000\n",
              "dtype: float64"
            ]
          },
          "metadata": {},
          "execution_count": 109
        }
      ]
    },
    {
      "cell_type": "markdown",
      "source": [
        "Abaixo tem-se a relação dos tipos de ferramentas utilizadas em Machine Learning. Regressão Linear é a mais utilizada, seguida por regressão logística e árvore de decisão. São análises mais simples de implementar e, provavelmente, por esse motivo sejam as que mais aparecem na pesquisa. São análises que fazem parte do cotidiano destes profissionais, em que é possível obter resultados satisfatórios, utilizando pouco tempo."
      ],
      "metadata": {
        "id": "qe7e8MN-jFOA"
      }
    },
    {
      "cell_type": "code",
      "source": [
        "df_cds.filter(regex='P20').mean().sort_values(ascending=False)"
      ],
      "metadata": {
        "colab": {
          "base_uri": "https://localhost:8080/"
        },
        "id": "xKXMHp5dkoDz",
        "outputId": "fff5c82c-01c7-46ab-bb41-04eeb0bd9dd3"
      },
      "execution_count": null,
      "outputs": [
        {
          "output_type": "execute_result",
          "data": {
            "text/plain": [
              "('P20', 'linear_regression')             0.740933\n",
              "('P20', 'logistic_regression')           0.673575\n",
              "('P20', 'decision_tree')                 0.652850\n",
              "('P20', 'random_forest')                 0.647668\n",
              "('P20', 'cluster_analysis')              0.601036\n",
              "('P20', 'neural_networks')               0.461140\n",
              "('P20', 'gradient_boosted_machines')     0.445596\n",
              "('P20', 'ensemble')                      0.398964\n",
              "('P20', 'nlp')                           0.352332\n",
              "('P20', 'bayesian_inference')            0.321244\n",
              "('P20', 'svms')                          0.305699\n",
              "('P20', 'glms')                          0.290155\n",
              "('P20', 'rnns')                          0.181347\n",
              "('P20', 'longitudinal_data_analysis')    0.176166\n",
              "('P20', 'cnns')                          0.165803\n",
              "('P20', 'markov_chains')                 0.134715\n",
              "('P20', 'survival_analysis')             0.134715\n",
              "('P20', 'joint analysis')                0.067358\n",
              "('P20', 'gans')                          0.046632\n",
              "('P20', 'hmms')                          0.041451\n",
              "('P20', 'no_listed_methods')             0.036269\n",
              "dtype: float64"
            ]
          },
          "metadata": {},
          "execution_count": 110
        }
      ]
    },
    {
      "cell_type": "markdown",
      "source": [
        "Abaixo tem-se as ferramentas utilizadas por esses profissionais: Power BI, metabase e tableau estão entre as mais usadas."
      ],
      "metadata": {
        "id": "gZz_TSinj47Y"
      }
    },
    {
      "cell_type": "code",
      "source": [
        "df_cds.filter(regex='P27').mean().sort_values(ascending=False)"
      ],
      "metadata": {
        "colab": {
          "base_uri": "https://localhost:8080/"
        },
        "id": "ri2_somcldRn",
        "outputId": "774aa322-d3ae-4984-e9a3-6a1050d8919e"
      },
      "execution_count": null,
      "outputs": [
        {
          "output_type": "execute_result",
          "data": {
            "text/plain": [
              "('P27', 'microsoft_powerbi')               0.336788\n",
              "('P27', 'no_bi_tool_at_work')              0.217617\n",
              "('P27', 'metabase')                        0.186528\n",
              "('P27', 'tableau')                         0.176166\n",
              "('P27', 'google_data_studio')              0.134715\n",
              "('P27', 'qlik_view_qlik_sense')            0.088083\n",
              "('P27', 'only_excel_gsheets')              0.077720\n",
              "('P27', 'other')                           0.077720\n",
              "('P27', 'redash')                          0.041451\n",
              "('P27', 'ibm_analytics_cognos')            0.025907\n",
              "('P27', 'superset')                        0.020725\n",
              "('P27', 'microstrategy')                   0.020725\n",
              "('P27', 'looker')                          0.015544\n",
              "('P27', 'sap_business_objects')            0.005181\n",
              "('P27', 'oracle_business_intelligence')    0.005181\n",
              "('P27', 'birst')                           0.000000\n",
              "dtype: float64"
            ]
          },
          "metadata": {},
          "execution_count": 111
        }
      ]
    },
    {
      "cell_type": "code",
      "source": [
        "df_abi = df[df['profissao']=='Analista de BI']"
      ],
      "metadata": {
        "id": "AfLT57DQl1Ez"
      },
      "execution_count": null,
      "outputs": []
    },
    {
      "cell_type": "markdown",
      "source": [
        "Abaixo, tem-se as ferramentas mais utilizadas pelo profissional de BI. Power BI e Tableau são as mais usadas."
      ],
      "metadata": {
        "id": "9U9rIwJQkOE2"
      }
    },
    {
      "cell_type": "code",
      "source": [
        "df_abi.filter(regex='P27').mean().sort_values(ascending=False)"
      ],
      "metadata": {
        "colab": {
          "base_uri": "https://localhost:8080/"
        },
        "id": "D7xhBKZRmJWv",
        "outputId": "15d6b021-9ef1-4ec9-8e38-c97b12730982"
      },
      "execution_count": null,
      "outputs": [
        {
          "output_type": "execute_result",
          "data": {
            "text/plain": [
              "('P27', 'microsoft_powerbi')               0.274900\n",
              "('P27', 'tableau')                         0.095618\n",
              "('P27', 'qlik_view_qlik_sense')            0.083665\n",
              "('P27', 'only_excel_gsheets')              0.079681\n",
              "('P27', 'other')                           0.063745\n",
              "('P27', 'metabase')                        0.051793\n",
              "('P27', 'google_data_studio')              0.043825\n",
              "('P27', 'microstrategy')                   0.027888\n",
              "('P27', 'no_bi_tool_at_work')              0.027888\n",
              "('P27', 'sap_business_objects')            0.023904\n",
              "('P27', 'ibm_analytics_cognos')            0.019920\n",
              "('P27', 'superset')                        0.011952\n",
              "('P27', 'oracle_business_intelligence')    0.007968\n",
              "('P27', 'looker')                          0.003984\n",
              "('P27', 'redash')                          0.000000\n",
              "('P27', 'birst')                           0.000000\n",
              "dtype: float64"
            ]
          },
          "metadata": {},
          "execution_count": 113
        }
      ]
    },
    {
      "cell_type": "markdown",
      "source": [
        "A seguir, os cursos/sites que os profissionais de BI mais utilizam: Udemy, Udacity e Coursera estão entre os mais acessados."
      ],
      "metadata": {
        "id": "mrzmJQ4DkZ48"
      }
    },
    {
      "cell_type": "code",
      "source": [
        "df_abi.filter(regex='P34').mean().sort_values(ascending=False)"
      ],
      "metadata": {
        "colab": {
          "base_uri": "https://localhost:8080/"
        },
        "id": "MDGXnZl4oA6B",
        "outputId": "3dd78b08-5fb8-4316-d2ed-4a00fa8572b7"
      },
      "execution_count": null,
      "outputs": [
        {
          "output_type": "execute_result",
          "data": {
            "text/plain": [
              "('P34', 'udemy')             0.709163\n",
              "('P34', 'udacity')           0.270916\n",
              "('P34', 'coursera')          0.250996\n",
              "('P34', 'height')            0.191235\n",
              "('P34', 'other')             0.187251\n",
              "('P34', 'kaggle_learn')      0.163347\n",
              "('P34', 'data_camp')         0.155378\n",
              "('P34', 'edx')               0.115538\n",
              "('P34', 'online_courses')    0.083665\n",
              "('P34', 'data_quest')        0.035857\n",
              "dtype: float64"
            ]
          },
          "metadata": {},
          "execution_count": 114
        }
      ]
    },
    {
      "cell_type": "markdown",
      "source": [
        "A seguir, os cursos/sites que os cientistas de dados mais utilizam: Coursera, Udemy e DataCamp estão entre os mais acessados."
      ],
      "metadata": {
        "id": "IwrRD2Cbkuo2"
      }
    },
    {
      "cell_type": "code",
      "source": [
        "df_cds[\"('P35\\', \\'data_science_plataforms_preference\\')\"].value_counts()"
      ],
      "metadata": {
        "colab": {
          "base_uri": "https://localhost:8080/"
        },
        "id": "jpQJtpqboyPL",
        "outputId": "6fbbcfe2-3d21-40b8-b0ea-de341dc46da8"
      },
      "execution_count": null,
      "outputs": [
        {
          "output_type": "execute_result",
          "data": {
            "text/plain": [
              "Coursera                   53\n",
              "Udemy                      38\n",
              "DataCamp                   33\n",
              "Udacity                    32\n",
              "Nunca fiz cursos online    13\n",
              "edX                         7\n",
              "Kaggle Learn                6\n",
              "Alura                       3\n",
              "DataQuest                   2\n",
              "Name: ('P35', 'data_science_plataforms_preference'), dtype: int64"
            ]
          },
          "metadata": {},
          "execution_count": 115
        }
      ]
    },
    {
      "cell_type": "markdown",
      "source": [
        "Conclusão: Com o conjunto de dados apresentado, há muitas análises possíveis de se fazer. Foram eleitas algumas a fim de se analisar, principalmente, o salário do profissional de dados no Brasil ,levando-se em conta a escolaridade, o gênero, a idade, o porte da empresa. \n",
        "\n",
        "Há outras análises possíveis de serem feitas com este conjunto de dados, como salários de acordo com a região do país que o profissional vive. \n",
        "\n",
        "Também pode ser feita uma análise preditiva desses salários e fazer um comparativo com o DataSet de 2021."
      ],
      "metadata": {
        "id": "J-NYhAkkk2Gg"
      }
    }
  ]
}